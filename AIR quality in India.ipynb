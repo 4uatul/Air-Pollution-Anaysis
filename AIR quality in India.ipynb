{
 "cells": [
  {
   "cell_type": "markdown",
   "id": "54f68cdf",
   "metadata": {},
   "source": [
    "# Air Pollution Anaysis"
   ]
  },
  {
   "cell_type": "markdown",
   "id": "bb32ebff",
   "metadata": {},
   "source": [
    "Made by- Atul     \n",
    "Mail- 4uatulsharma@gmail.com    \n",
    "Phone- 9990220006"
   ]
  },
  {
   "cell_type": "markdown",
   "id": "29a3f31d",
   "metadata": {},
   "source": [
    "### Importing Modules"
   ]
  },
  {
   "cell_type": "code",
   "execution_count": 1,
   "id": "2724dc12",
   "metadata": {},
   "outputs": [],
   "source": [
    "import pandas as pd\n",
    "import numpy as np\n",
    "import matplotlib.pyplot as plt\n",
    "import seaborn as sns\n",
    "import plotly.express as px\n",
    "import geopandas as gpd\n",
    "%matplotlib inline"
   ]
  },
  {
   "cell_type": "markdown",
   "id": "6f823070",
   "metadata": {},
   "source": [
    "## Importing Data "
   ]
  },
  {
   "cell_type": "code",
   "execution_count": 11,
   "id": "f01f0f47",
   "metadata": {},
   "outputs": [],
   "source": [
    "air=pd.read_csv(\"city_hour.csv\")"
   ]
  },
  {
   "cell_type": "code",
   "execution_count": 12,
   "id": "3af39e3e",
   "metadata": {},
   "outputs": [
    {
     "data": {
      "text/html": [
       "<div>\n",
       "<style scoped>\n",
       "    .dataframe tbody tr th:only-of-type {\n",
       "        vertical-align: middle;\n",
       "    }\n",
       "\n",
       "    .dataframe tbody tr th {\n",
       "        vertical-align: top;\n",
       "    }\n",
       "\n",
       "    .dataframe thead th {\n",
       "        text-align: right;\n",
       "    }\n",
       "</style>\n",
       "<table border=\"1\" class=\"dataframe\">\n",
       "  <thead>\n",
       "    <tr style=\"text-align: right;\">\n",
       "      <th></th>\n",
       "      <th>City</th>\n",
       "      <th>Datetime</th>\n",
       "      <th>PM2.5</th>\n",
       "      <th>PM10</th>\n",
       "      <th>NO</th>\n",
       "      <th>NO2</th>\n",
       "      <th>NOx</th>\n",
       "      <th>NH3</th>\n",
       "      <th>CO</th>\n",
       "      <th>SO2</th>\n",
       "      <th>O3</th>\n",
       "      <th>Benzene</th>\n",
       "      <th>Toluene</th>\n",
       "      <th>Xylene</th>\n",
       "      <th>AQI</th>\n",
       "      <th>AQI_Bucket</th>\n",
       "    </tr>\n",
       "  </thead>\n",
       "  <tbody>\n",
       "    <tr>\n",
       "      <th>0</th>\n",
       "      <td>Ahmedabad</td>\n",
       "      <td>2015-01-01 01:00:00</td>\n",
       "      <td>NaN</td>\n",
       "      <td>NaN</td>\n",
       "      <td>1.00</td>\n",
       "      <td>40.01</td>\n",
       "      <td>36.37</td>\n",
       "      <td>NaN</td>\n",
       "      <td>1.00</td>\n",
       "      <td>122.07</td>\n",
       "      <td>NaN</td>\n",
       "      <td>0.0</td>\n",
       "      <td>0.0</td>\n",
       "      <td>0.0</td>\n",
       "      <td>NaN</td>\n",
       "      <td>NaN</td>\n",
       "    </tr>\n",
       "    <tr>\n",
       "      <th>1</th>\n",
       "      <td>Ahmedabad</td>\n",
       "      <td>2015-01-01 02:00:00</td>\n",
       "      <td>NaN</td>\n",
       "      <td>NaN</td>\n",
       "      <td>0.02</td>\n",
       "      <td>27.75</td>\n",
       "      <td>19.73</td>\n",
       "      <td>NaN</td>\n",
       "      <td>0.02</td>\n",
       "      <td>85.90</td>\n",
       "      <td>NaN</td>\n",
       "      <td>0.0</td>\n",
       "      <td>0.0</td>\n",
       "      <td>0.0</td>\n",
       "      <td>NaN</td>\n",
       "      <td>NaN</td>\n",
       "    </tr>\n",
       "    <tr>\n",
       "      <th>2</th>\n",
       "      <td>Ahmedabad</td>\n",
       "      <td>2015-01-01 03:00:00</td>\n",
       "      <td>NaN</td>\n",
       "      <td>NaN</td>\n",
       "      <td>0.08</td>\n",
       "      <td>19.32</td>\n",
       "      <td>11.08</td>\n",
       "      <td>NaN</td>\n",
       "      <td>0.08</td>\n",
       "      <td>52.83</td>\n",
       "      <td>NaN</td>\n",
       "      <td>0.0</td>\n",
       "      <td>0.0</td>\n",
       "      <td>0.0</td>\n",
       "      <td>NaN</td>\n",
       "      <td>NaN</td>\n",
       "    </tr>\n",
       "    <tr>\n",
       "      <th>3</th>\n",
       "      <td>Ahmedabad</td>\n",
       "      <td>2015-01-01 04:00:00</td>\n",
       "      <td>NaN</td>\n",
       "      <td>NaN</td>\n",
       "      <td>0.30</td>\n",
       "      <td>16.45</td>\n",
       "      <td>9.20</td>\n",
       "      <td>NaN</td>\n",
       "      <td>0.30</td>\n",
       "      <td>39.53</td>\n",
       "      <td>153.58</td>\n",
       "      <td>0.0</td>\n",
       "      <td>0.0</td>\n",
       "      <td>0.0</td>\n",
       "      <td>NaN</td>\n",
       "      <td>NaN</td>\n",
       "    </tr>\n",
       "    <tr>\n",
       "      <th>4</th>\n",
       "      <td>Ahmedabad</td>\n",
       "      <td>2015-01-01 05:00:00</td>\n",
       "      <td>NaN</td>\n",
       "      <td>NaN</td>\n",
       "      <td>0.12</td>\n",
       "      <td>14.90</td>\n",
       "      <td>7.85</td>\n",
       "      <td>NaN</td>\n",
       "      <td>0.12</td>\n",
       "      <td>32.63</td>\n",
       "      <td>NaN</td>\n",
       "      <td>0.0</td>\n",
       "      <td>0.0</td>\n",
       "      <td>0.0</td>\n",
       "      <td>NaN</td>\n",
       "      <td>NaN</td>\n",
       "    </tr>\n",
       "    <tr>\n",
       "      <th>5</th>\n",
       "      <td>Ahmedabad</td>\n",
       "      <td>2015-01-01 06:00:00</td>\n",
       "      <td>NaN</td>\n",
       "      <td>NaN</td>\n",
       "      <td>0.33</td>\n",
       "      <td>15.95</td>\n",
       "      <td>10.82</td>\n",
       "      <td>NaN</td>\n",
       "      <td>0.33</td>\n",
       "      <td>29.87</td>\n",
       "      <td>64.25</td>\n",
       "      <td>0.0</td>\n",
       "      <td>0.0</td>\n",
       "      <td>0.0</td>\n",
       "      <td>NaN</td>\n",
       "      <td>NaN</td>\n",
       "    </tr>\n",
       "    <tr>\n",
       "      <th>6</th>\n",
       "      <td>Ahmedabad</td>\n",
       "      <td>2015-01-01 07:00:00</td>\n",
       "      <td>NaN</td>\n",
       "      <td>NaN</td>\n",
       "      <td>0.45</td>\n",
       "      <td>15.94</td>\n",
       "      <td>12.47</td>\n",
       "      <td>NaN</td>\n",
       "      <td>0.45</td>\n",
       "      <td>27.41</td>\n",
       "      <td>191.96</td>\n",
       "      <td>0.0</td>\n",
       "      <td>0.0</td>\n",
       "      <td>0.0</td>\n",
       "      <td>NaN</td>\n",
       "      <td>NaN</td>\n",
       "    </tr>\n",
       "    <tr>\n",
       "      <th>7</th>\n",
       "      <td>Ahmedabad</td>\n",
       "      <td>2015-01-01 08:00:00</td>\n",
       "      <td>NaN</td>\n",
       "      <td>NaN</td>\n",
       "      <td>1.03</td>\n",
       "      <td>16.66</td>\n",
       "      <td>16.48</td>\n",
       "      <td>NaN</td>\n",
       "      <td>1.03</td>\n",
       "      <td>20.92</td>\n",
       "      <td>177.21</td>\n",
       "      <td>0.0</td>\n",
       "      <td>0.0</td>\n",
       "      <td>0.0</td>\n",
       "      <td>NaN</td>\n",
       "      <td>NaN</td>\n",
       "    </tr>\n",
       "    <tr>\n",
       "      <th>8</th>\n",
       "      <td>Ahmedabad</td>\n",
       "      <td>2015-01-01 09:00:00</td>\n",
       "      <td>NaN</td>\n",
       "      <td>NaN</td>\n",
       "      <td>1.47</td>\n",
       "      <td>16.25</td>\n",
       "      <td>18.02</td>\n",
       "      <td>NaN</td>\n",
       "      <td>1.47</td>\n",
       "      <td>16.45</td>\n",
       "      <td>122.08</td>\n",
       "      <td>0.0</td>\n",
       "      <td>0.0</td>\n",
       "      <td>0.0</td>\n",
       "      <td>NaN</td>\n",
       "      <td>NaN</td>\n",
       "    </tr>\n",
       "    <tr>\n",
       "      <th>9</th>\n",
       "      <td>Ahmedabad</td>\n",
       "      <td>2015-01-01 10:00:00</td>\n",
       "      <td>NaN</td>\n",
       "      <td>NaN</td>\n",
       "      <td>2.05</td>\n",
       "      <td>13.78</td>\n",
       "      <td>16.08</td>\n",
       "      <td>NaN</td>\n",
       "      <td>2.05</td>\n",
       "      <td>15.14</td>\n",
       "      <td>NaN</td>\n",
       "      <td>0.0</td>\n",
       "      <td>0.0</td>\n",
       "      <td>0.0</td>\n",
       "      <td>NaN</td>\n",
       "      <td>NaN</td>\n",
       "    </tr>\n",
       "  </tbody>\n",
       "</table>\n",
       "</div>"
      ],
      "text/plain": [
       "        City             Datetime  PM2.5  PM10    NO    NO2    NOx  NH3    CO  \\\n",
       "0  Ahmedabad  2015-01-01 01:00:00    NaN   NaN  1.00  40.01  36.37  NaN  1.00   \n",
       "1  Ahmedabad  2015-01-01 02:00:00    NaN   NaN  0.02  27.75  19.73  NaN  0.02   \n",
       "2  Ahmedabad  2015-01-01 03:00:00    NaN   NaN  0.08  19.32  11.08  NaN  0.08   \n",
       "3  Ahmedabad  2015-01-01 04:00:00    NaN   NaN  0.30  16.45   9.20  NaN  0.30   \n",
       "4  Ahmedabad  2015-01-01 05:00:00    NaN   NaN  0.12  14.90   7.85  NaN  0.12   \n",
       "5  Ahmedabad  2015-01-01 06:00:00    NaN   NaN  0.33  15.95  10.82  NaN  0.33   \n",
       "6  Ahmedabad  2015-01-01 07:00:00    NaN   NaN  0.45  15.94  12.47  NaN  0.45   \n",
       "7  Ahmedabad  2015-01-01 08:00:00    NaN   NaN  1.03  16.66  16.48  NaN  1.03   \n",
       "8  Ahmedabad  2015-01-01 09:00:00    NaN   NaN  1.47  16.25  18.02  NaN  1.47   \n",
       "9  Ahmedabad  2015-01-01 10:00:00    NaN   NaN  2.05  13.78  16.08  NaN  2.05   \n",
       "\n",
       "      SO2      O3  Benzene  Toluene  Xylene  AQI AQI_Bucket  \n",
       "0  122.07     NaN      0.0      0.0     0.0  NaN        NaN  \n",
       "1   85.90     NaN      0.0      0.0     0.0  NaN        NaN  \n",
       "2   52.83     NaN      0.0      0.0     0.0  NaN        NaN  \n",
       "3   39.53  153.58      0.0      0.0     0.0  NaN        NaN  \n",
       "4   32.63     NaN      0.0      0.0     0.0  NaN        NaN  \n",
       "5   29.87   64.25      0.0      0.0     0.0  NaN        NaN  \n",
       "6   27.41  191.96      0.0      0.0     0.0  NaN        NaN  \n",
       "7   20.92  177.21      0.0      0.0     0.0  NaN        NaN  \n",
       "8   16.45  122.08      0.0      0.0     0.0  NaN        NaN  \n",
       "9   15.14     NaN      0.0      0.0     0.0  NaN        NaN  "
      ]
     },
     "execution_count": 12,
     "metadata": {},
     "output_type": "execute_result"
    }
   ],
   "source": [
    "air.head(10)"
   ]
  },
  {
   "cell_type": "code",
   "execution_count": 13,
   "id": "1b469db9",
   "metadata": {},
   "outputs": [
    {
     "data": {
      "text/plain": [
       "PM2.5\n",
       "56.00     1679\n",
       "11.00     1050\n",
       "27.00      936\n",
       "15.00      929\n",
       "24.00      885\n",
       "          ... \n",
       "299.76       1\n",
       "299.77       1\n",
       "299.81       1\n",
       "196.76       1\n",
       "325.70       1\n",
       "Length: 34105, dtype: int64"
      ]
     },
     "execution_count": 13,
     "metadata": {},
     "output_type": "execute_result"
    }
   ],
   "source": [
    "air.value_counts(\"PM2.5\")"
   ]
  },
  {
   "cell_type": "code",
   "execution_count": 14,
   "id": "33efdbe7",
   "metadata": {},
   "outputs": [
    {
     "data": {
      "text/html": [
       "<div>\n",
       "<style scoped>\n",
       "    .dataframe tbody tr th:only-of-type {\n",
       "        vertical-align: middle;\n",
       "    }\n",
       "\n",
       "    .dataframe tbody tr th {\n",
       "        vertical-align: top;\n",
       "    }\n",
       "\n",
       "    .dataframe thead th {\n",
       "        text-align: right;\n",
       "    }\n",
       "</style>\n",
       "<table border=\"1\" class=\"dataframe\">\n",
       "  <thead>\n",
       "    <tr style=\"text-align: right;\">\n",
       "      <th></th>\n",
       "      <th>PM2.5</th>\n",
       "      <th>PM10</th>\n",
       "      <th>NO</th>\n",
       "      <th>NO2</th>\n",
       "      <th>NOx</th>\n",
       "      <th>NH3</th>\n",
       "      <th>CO</th>\n",
       "      <th>SO2</th>\n",
       "      <th>O3</th>\n",
       "      <th>Benzene</th>\n",
       "      <th>Toluene</th>\n",
       "      <th>Xylene</th>\n",
       "      <th>AQI</th>\n",
       "    </tr>\n",
       "  </thead>\n",
       "  <tbody>\n",
       "    <tr>\n",
       "      <th>PM2.5</th>\n",
       "      <td>1.000000</td>\n",
       "      <td>0.809011</td>\n",
       "      <td>0.371014</td>\n",
       "      <td>0.303373</td>\n",
       "      <td>0.385622</td>\n",
       "      <td>0.243264</td>\n",
       "      <td>0.082915</td>\n",
       "      <td>0.124989</td>\n",
       "      <td>0.047287</td>\n",
       "      <td>0.034146</td>\n",
       "      <td>0.128568</td>\n",
       "      <td>0.117498</td>\n",
       "      <td>0.502101</td>\n",
       "    </tr>\n",
       "    <tr>\n",
       "      <th>PM10</th>\n",
       "      <td>0.809011</td>\n",
       "      <td>1.000000</td>\n",
       "      <td>0.439655</td>\n",
       "      <td>0.430027</td>\n",
       "      <td>0.481494</td>\n",
       "      <td>0.343633</td>\n",
       "      <td>0.101166</td>\n",
       "      <td>0.231512</td>\n",
       "      <td>0.114037</td>\n",
       "      <td>0.035329</td>\n",
       "      <td>0.186191</td>\n",
       "      <td>0.100945</td>\n",
       "      <td>0.669280</td>\n",
       "    </tr>\n",
       "    <tr>\n",
       "      <th>NO</th>\n",
       "      <td>0.371014</td>\n",
       "      <td>0.439655</td>\n",
       "      <td>1.000000</td>\n",
       "      <td>0.434521</td>\n",
       "      <td>0.802295</td>\n",
       "      <td>0.170174</td>\n",
       "      <td>0.320340</td>\n",
       "      <td>0.130311</td>\n",
       "      <td>-0.105700</td>\n",
       "      <td>0.072393</td>\n",
       "      <td>0.195391</td>\n",
       "      <td>0.153866</td>\n",
       "      <td>0.343771</td>\n",
       "    </tr>\n",
       "    <tr>\n",
       "      <th>NO2</th>\n",
       "      <td>0.303373</td>\n",
       "      <td>0.430027</td>\n",
       "      <td>0.434521</td>\n",
       "      <td>1.000000</td>\n",
       "      <td>0.618574</td>\n",
       "      <td>0.216772</td>\n",
       "      <td>0.270004</td>\n",
       "      <td>0.304907</td>\n",
       "      <td>0.059608</td>\n",
       "      <td>0.051602</td>\n",
       "      <td>0.273639</td>\n",
       "      <td>0.190458</td>\n",
       "      <td>0.428728</td>\n",
       "    </tr>\n",
       "    <tr>\n",
       "      <th>NOx</th>\n",
       "      <td>0.385622</td>\n",
       "      <td>0.481494</td>\n",
       "      <td>0.802295</td>\n",
       "      <td>0.618574</td>\n",
       "      <td>1.000000</td>\n",
       "      <td>0.161814</td>\n",
       "      <td>0.279057</td>\n",
       "      <td>0.179329</td>\n",
       "      <td>-0.076468</td>\n",
       "      <td>0.075090</td>\n",
       "      <td>0.229222</td>\n",
       "      <td>0.151981</td>\n",
       "      <td>0.386309</td>\n",
       "    </tr>\n",
       "    <tr>\n",
       "      <th>NH3</th>\n",
       "      <td>0.243264</td>\n",
       "      <td>0.343633</td>\n",
       "      <td>0.170174</td>\n",
       "      <td>0.216772</td>\n",
       "      <td>0.161814</td>\n",
       "      <td>1.000000</td>\n",
       "      <td>0.108232</td>\n",
       "      <td>-0.010440</td>\n",
       "      <td>0.048759</td>\n",
       "      <td>-0.007535</td>\n",
       "      <td>0.024581</td>\n",
       "      <td>-0.008980</td>\n",
       "      <td>0.227464</td>\n",
       "    </tr>\n",
       "    <tr>\n",
       "      <th>CO</th>\n",
       "      <td>0.082915</td>\n",
       "      <td>0.101166</td>\n",
       "      <td>0.320340</td>\n",
       "      <td>0.270004</td>\n",
       "      <td>0.279057</td>\n",
       "      <td>0.108232</td>\n",
       "      <td>1.000000</td>\n",
       "      <td>0.279187</td>\n",
       "      <td>-0.049094</td>\n",
       "      <td>0.068655</td>\n",
       "      <td>0.243681</td>\n",
       "      <td>0.171924</td>\n",
       "      <td>0.580283</td>\n",
       "    </tr>\n",
       "    <tr>\n",
       "      <th>SO2</th>\n",
       "      <td>0.124989</td>\n",
       "      <td>0.231512</td>\n",
       "      <td>0.130311</td>\n",
       "      <td>0.304907</td>\n",
       "      <td>0.179329</td>\n",
       "      <td>-0.010440</td>\n",
       "      <td>0.279187</td>\n",
       "      <td>1.000000</td>\n",
       "      <td>0.101002</td>\n",
       "      <td>0.029137</td>\n",
       "      <td>0.242712</td>\n",
       "      <td>0.188043</td>\n",
       "      <td>0.382692</td>\n",
       "    </tr>\n",
       "    <tr>\n",
       "      <th>O3</th>\n",
       "      <td>0.047287</td>\n",
       "      <td>0.114037</td>\n",
       "      <td>-0.105700</td>\n",
       "      <td>0.059608</td>\n",
       "      <td>-0.076468</td>\n",
       "      <td>0.048759</td>\n",
       "      <td>-0.049094</td>\n",
       "      <td>0.101002</td>\n",
       "      <td>1.000000</td>\n",
       "      <td>-0.009622</td>\n",
       "      <td>0.034025</td>\n",
       "      <td>-0.010007</td>\n",
       "      <td>0.092884</td>\n",
       "    </tr>\n",
       "    <tr>\n",
       "      <th>Benzene</th>\n",
       "      <td>0.034146</td>\n",
       "      <td>0.035329</td>\n",
       "      <td>0.072393</td>\n",
       "      <td>0.051602</td>\n",
       "      <td>0.075090</td>\n",
       "      <td>-0.007535</td>\n",
       "      <td>0.068655</td>\n",
       "      <td>0.029137</td>\n",
       "      <td>-0.009622</td>\n",
       "      <td>1.000000</td>\n",
       "      <td>0.754495</td>\n",
       "      <td>0.406926</td>\n",
       "      <td>0.053831</td>\n",
       "    </tr>\n",
       "    <tr>\n",
       "      <th>Toluene</th>\n",
       "      <td>0.128568</td>\n",
       "      <td>0.186191</td>\n",
       "      <td>0.195391</td>\n",
       "      <td>0.273639</td>\n",
       "      <td>0.229222</td>\n",
       "      <td>0.024581</td>\n",
       "      <td>0.243681</td>\n",
       "      <td>0.242712</td>\n",
       "      <td>0.034025</td>\n",
       "      <td>0.754495</td>\n",
       "      <td>1.000000</td>\n",
       "      <td>0.429482</td>\n",
       "      <td>0.261493</td>\n",
       "    </tr>\n",
       "    <tr>\n",
       "      <th>Xylene</th>\n",
       "      <td>0.117498</td>\n",
       "      <td>0.100945</td>\n",
       "      <td>0.153866</td>\n",
       "      <td>0.190458</td>\n",
       "      <td>0.151981</td>\n",
       "      <td>-0.008980</td>\n",
       "      <td>0.171924</td>\n",
       "      <td>0.188043</td>\n",
       "      <td>-0.010007</td>\n",
       "      <td>0.406926</td>\n",
       "      <td>0.429482</td>\n",
       "      <td>1.000000</td>\n",
       "      <td>0.157003</td>\n",
       "    </tr>\n",
       "    <tr>\n",
       "      <th>AQI</th>\n",
       "      <td>0.502101</td>\n",
       "      <td>0.669280</td>\n",
       "      <td>0.343771</td>\n",
       "      <td>0.428728</td>\n",
       "      <td>0.386309</td>\n",
       "      <td>0.227464</td>\n",
       "      <td>0.580283</td>\n",
       "      <td>0.382692</td>\n",
       "      <td>0.092884</td>\n",
       "      <td>0.053831</td>\n",
       "      <td>0.261493</td>\n",
       "      <td>0.157003</td>\n",
       "      <td>1.000000</td>\n",
       "    </tr>\n",
       "  </tbody>\n",
       "</table>\n",
       "</div>"
      ],
      "text/plain": [
       "            PM2.5      PM10        NO       NO2       NOx       NH3        CO  \\\n",
       "PM2.5    1.000000  0.809011  0.371014  0.303373  0.385622  0.243264  0.082915   \n",
       "PM10     0.809011  1.000000  0.439655  0.430027  0.481494  0.343633  0.101166   \n",
       "NO       0.371014  0.439655  1.000000  0.434521  0.802295  0.170174  0.320340   \n",
       "NO2      0.303373  0.430027  0.434521  1.000000  0.618574  0.216772  0.270004   \n",
       "NOx      0.385622  0.481494  0.802295  0.618574  1.000000  0.161814  0.279057   \n",
       "NH3      0.243264  0.343633  0.170174  0.216772  0.161814  1.000000  0.108232   \n",
       "CO       0.082915  0.101166  0.320340  0.270004  0.279057  0.108232  1.000000   \n",
       "SO2      0.124989  0.231512  0.130311  0.304907  0.179329 -0.010440  0.279187   \n",
       "O3       0.047287  0.114037 -0.105700  0.059608 -0.076468  0.048759 -0.049094   \n",
       "Benzene  0.034146  0.035329  0.072393  0.051602  0.075090 -0.007535  0.068655   \n",
       "Toluene  0.128568  0.186191  0.195391  0.273639  0.229222  0.024581  0.243681   \n",
       "Xylene   0.117498  0.100945  0.153866  0.190458  0.151981 -0.008980  0.171924   \n",
       "AQI      0.502101  0.669280  0.343771  0.428728  0.386309  0.227464  0.580283   \n",
       "\n",
       "              SO2        O3   Benzene   Toluene    Xylene       AQI  \n",
       "PM2.5    0.124989  0.047287  0.034146  0.128568  0.117498  0.502101  \n",
       "PM10     0.231512  0.114037  0.035329  0.186191  0.100945  0.669280  \n",
       "NO       0.130311 -0.105700  0.072393  0.195391  0.153866  0.343771  \n",
       "NO2      0.304907  0.059608  0.051602  0.273639  0.190458  0.428728  \n",
       "NOx      0.179329 -0.076468  0.075090  0.229222  0.151981  0.386309  \n",
       "NH3     -0.010440  0.048759 -0.007535  0.024581 -0.008980  0.227464  \n",
       "CO       0.279187 -0.049094  0.068655  0.243681  0.171924  0.580283  \n",
       "SO2      1.000000  0.101002  0.029137  0.242712  0.188043  0.382692  \n",
       "O3       0.101002  1.000000 -0.009622  0.034025 -0.010007  0.092884  \n",
       "Benzene  0.029137 -0.009622  1.000000  0.754495  0.406926  0.053831  \n",
       "Toluene  0.242712  0.034025  0.754495  1.000000  0.429482  0.261493  \n",
       "Xylene   0.188043 -0.010007  0.406926  0.429482  1.000000  0.157003  \n",
       "AQI      0.382692  0.092884  0.053831  0.261493  0.157003  1.000000  "
      ]
     },
     "execution_count": 14,
     "metadata": {},
     "output_type": "execute_result"
    }
   ],
   "source": [
    "air.corr()"
   ]
  },
  {
   "cell_type": "code",
   "execution_count": 15,
   "id": "f7b822e2",
   "metadata": {},
   "outputs": [
    {
     "data": {
      "text/html": [
       "<div>\n",
       "<style scoped>\n",
       "    .dataframe tbody tr th:only-of-type {\n",
       "        vertical-align: middle;\n",
       "    }\n",
       "\n",
       "    .dataframe tbody tr th {\n",
       "        vertical-align: top;\n",
       "    }\n",
       "\n",
       "    .dataframe thead th {\n",
       "        text-align: right;\n",
       "    }\n",
       "</style>\n",
       "<table border=\"1\" class=\"dataframe\">\n",
       "  <thead>\n",
       "    <tr style=\"text-align: right;\">\n",
       "      <th></th>\n",
       "      <th>PM2.5</th>\n",
       "      <th>PM10</th>\n",
       "      <th>NO</th>\n",
       "      <th>NO2</th>\n",
       "      <th>NOx</th>\n",
       "      <th>NH3</th>\n",
       "      <th>CO</th>\n",
       "      <th>SO2</th>\n",
       "      <th>O3</th>\n",
       "      <th>Benzene</th>\n",
       "      <th>Toluene</th>\n",
       "      <th>Xylene</th>\n",
       "      <th>AQI</th>\n",
       "    </tr>\n",
       "  </thead>\n",
       "  <tbody>\n",
       "    <tr>\n",
       "      <th>count</th>\n",
       "      <td>562787.000000</td>\n",
       "      <td>411138.000000</td>\n",
       "      <td>591243.000000</td>\n",
       "      <td>590753.000000</td>\n",
       "      <td>584651.000000</td>\n",
       "      <td>435333.000000</td>\n",
       "      <td>621358.000000</td>\n",
       "      <td>577502.000000</td>\n",
       "      <td>578667.000000</td>\n",
       "      <td>544229.000000</td>\n",
       "      <td>487268.000000</td>\n",
       "      <td>252046.000000</td>\n",
       "      <td>578795.000000</td>\n",
       "    </tr>\n",
       "    <tr>\n",
       "      <th>mean</th>\n",
       "      <td>67.622994</td>\n",
       "      <td>119.075804</td>\n",
       "      <td>17.421755</td>\n",
       "      <td>28.885157</td>\n",
       "      <td>32.287565</td>\n",
       "      <td>23.607959</td>\n",
       "      <td>2.183539</td>\n",
       "      <td>14.038307</td>\n",
       "      <td>34.798979</td>\n",
       "      <td>3.087595</td>\n",
       "      <td>8.660927</td>\n",
       "      <td>3.130537</td>\n",
       "      <td>166.413500</td>\n",
       "    </tr>\n",
       "    <tr>\n",
       "      <th>std</th>\n",
       "      <td>74.730496</td>\n",
       "      <td>104.224752</td>\n",
       "      <td>32.095211</td>\n",
       "      <td>29.162194</td>\n",
       "      <td>39.756669</td>\n",
       "      <td>28.831900</td>\n",
       "      <td>10.970514</td>\n",
       "      <td>19.305540</td>\n",
       "      <td>29.806379</td>\n",
       "      <td>16.456599</td>\n",
       "      <td>21.741023</td>\n",
       "      <td>7.834832</td>\n",
       "      <td>162.112729</td>\n",
       "    </tr>\n",
       "    <tr>\n",
       "      <th>min</th>\n",
       "      <td>0.010000</td>\n",
       "      <td>0.010000</td>\n",
       "      <td>0.010000</td>\n",
       "      <td>0.010000</td>\n",
       "      <td>0.000000</td>\n",
       "      <td>0.010000</td>\n",
       "      <td>0.000000</td>\n",
       "      <td>0.010000</td>\n",
       "      <td>0.010000</td>\n",
       "      <td>0.000000</td>\n",
       "      <td>0.000000</td>\n",
       "      <td>0.000000</td>\n",
       "      <td>8.000000</td>\n",
       "    </tr>\n",
       "    <tr>\n",
       "      <th>25%</th>\n",
       "      <td>26.200000</td>\n",
       "      <td>52.380000</td>\n",
       "      <td>3.840000</td>\n",
       "      <td>10.810000</td>\n",
       "      <td>10.660000</td>\n",
       "      <td>8.120000</td>\n",
       "      <td>0.420000</td>\n",
       "      <td>4.880000</td>\n",
       "      <td>13.420000</td>\n",
       "      <td>0.050000</td>\n",
       "      <td>0.370000</td>\n",
       "      <td>0.100000</td>\n",
       "      <td>79.000000</td>\n",
       "    </tr>\n",
       "    <tr>\n",
       "      <th>50%</th>\n",
       "      <td>46.420000</td>\n",
       "      <td>91.500000</td>\n",
       "      <td>7.960000</td>\n",
       "      <td>20.320000</td>\n",
       "      <td>20.790000</td>\n",
       "      <td>15.380000</td>\n",
       "      <td>0.800000</td>\n",
       "      <td>8.370000</td>\n",
       "      <td>26.240000</td>\n",
       "      <td>0.860000</td>\n",
       "      <td>2.590000</td>\n",
       "      <td>0.790000</td>\n",
       "      <td>116.000000</td>\n",
       "    </tr>\n",
       "    <tr>\n",
       "      <th>75%</th>\n",
       "      <td>79.490000</td>\n",
       "      <td>147.520000</td>\n",
       "      <td>16.150000</td>\n",
       "      <td>36.350000</td>\n",
       "      <td>37.150000</td>\n",
       "      <td>29.230000</td>\n",
       "      <td>1.370000</td>\n",
       "      <td>14.780000</td>\n",
       "      <td>47.620000</td>\n",
       "      <td>2.750000</td>\n",
       "      <td>8.410000</td>\n",
       "      <td>3.120000</td>\n",
       "      <td>208.000000</td>\n",
       "    </tr>\n",
       "    <tr>\n",
       "      <th>max</th>\n",
       "      <td>999.990000</td>\n",
       "      <td>1000.000000</td>\n",
       "      <td>499.990000</td>\n",
       "      <td>499.510000</td>\n",
       "      <td>498.610000</td>\n",
       "      <td>499.970000</td>\n",
       "      <td>498.570000</td>\n",
       "      <td>199.960000</td>\n",
       "      <td>497.620000</td>\n",
       "      <td>498.070000</td>\n",
       "      <td>499.400000</td>\n",
       "      <td>499.990000</td>\n",
       "      <td>3133.000000</td>\n",
       "    </tr>\n",
       "  </tbody>\n",
       "</table>\n",
       "</div>"
      ],
      "text/plain": [
       "               PM2.5           PM10             NO            NO2  \\\n",
       "count  562787.000000  411138.000000  591243.000000  590753.000000   \n",
       "mean       67.622994     119.075804      17.421755      28.885157   \n",
       "std        74.730496     104.224752      32.095211      29.162194   \n",
       "min         0.010000       0.010000       0.010000       0.010000   \n",
       "25%        26.200000      52.380000       3.840000      10.810000   \n",
       "50%        46.420000      91.500000       7.960000      20.320000   \n",
       "75%        79.490000     147.520000      16.150000      36.350000   \n",
       "max       999.990000    1000.000000     499.990000     499.510000   \n",
       "\n",
       "                 NOx            NH3             CO            SO2  \\\n",
       "count  584651.000000  435333.000000  621358.000000  577502.000000   \n",
       "mean       32.287565      23.607959       2.183539      14.038307   \n",
       "std        39.756669      28.831900      10.970514      19.305540   \n",
       "min         0.000000       0.010000       0.000000       0.010000   \n",
       "25%        10.660000       8.120000       0.420000       4.880000   \n",
       "50%        20.790000      15.380000       0.800000       8.370000   \n",
       "75%        37.150000      29.230000       1.370000      14.780000   \n",
       "max       498.610000     499.970000     498.570000     199.960000   \n",
       "\n",
       "                  O3        Benzene        Toluene         Xylene  \\\n",
       "count  578667.000000  544229.000000  487268.000000  252046.000000   \n",
       "mean       34.798979       3.087595       8.660927       3.130537   \n",
       "std        29.806379      16.456599      21.741023       7.834832   \n",
       "min         0.010000       0.000000       0.000000       0.000000   \n",
       "25%        13.420000       0.050000       0.370000       0.100000   \n",
       "50%        26.240000       0.860000       2.590000       0.790000   \n",
       "75%        47.620000       2.750000       8.410000       3.120000   \n",
       "max       497.620000     498.070000     499.400000     499.990000   \n",
       "\n",
       "                 AQI  \n",
       "count  578795.000000  \n",
       "mean      166.413500  \n",
       "std       162.112729  \n",
       "min         8.000000  \n",
       "25%        79.000000  \n",
       "50%       116.000000  \n",
       "75%       208.000000  \n",
       "max      3133.000000  "
      ]
     },
     "execution_count": 15,
     "metadata": {},
     "output_type": "execute_result"
    }
   ],
   "source": [
    "air.describe()"
   ]
  },
  {
   "cell_type": "markdown",
   "id": "1dff4a63",
   "metadata": {},
   "source": [
    "## Analysing Null Data Values"
   ]
  },
  {
   "cell_type": "code",
   "execution_count": 16,
   "id": "47bd073b",
   "metadata": {},
   "outputs": [
    {
     "data": {
      "text/plain": [
       "<AxesSubplot:>"
      ]
     },
     "execution_count": 16,
     "metadata": {},
     "output_type": "execute_result"
    },
    {
     "data": {
      "image/png": "[encoded data removed]",
      "text/plain": [
       "<Figure size 432x288 with 1 Axes>"
      ]
     },
     "metadata": {
      "needs_background": "light"
     },
     "output_type": "display_data"
    }
   ],
   "source": [
    "sns.heatmap(air.isnull(),yticklabels=False,cbar=False,cmap='viridis')"
   ]
  },
  {
   "cell_type": "code",
   "execution_count": 17,
   "id": "c813c896",
   "metadata": {},
   "outputs": [
    {
     "data": {
      "text/plain": [
       "array([nan, 'Poor', 'Moderate', 'Very Poor', 'Severe', 'Satisfactory',\n",
       "       'Good'], dtype=object)"
      ]
     },
     "execution_count": 17,
     "metadata": {},
     "output_type": "execute_result"
    }
   ],
   "source": [
    "air[\"AQI_Bucket\"].unique()"
   ]
  },
  {
   "cell_type": "code",
   "execution_count": 18,
   "id": "3be6d13d",
   "metadata": {},
   "outputs": [
    {
     "data": {
      "text/plain": [
       "array(['Ahmedabad', 'Aizawl', 'Amaravati', 'Amritsar', 'Bengaluru',\n",
       "       'Bhopal', 'Brajrajnagar', 'Chandigarh', 'Chennai', 'Coimbatore',\n",
       "       'Delhi', 'Ernakulam', 'Gurugram', 'Guwahati', 'Hyderabad',\n",
       "       'Jaipur', 'Jorapokhar', 'Kochi', 'Kolkata', 'Lucknow', 'Mumbai',\n",
       "       'Patna', 'Shillong', 'Talcher', 'Thiruvananthapuram',\n",
       "       'Visakhapatnam'], dtype=object)"
      ]
     },
     "execution_count": 18,
     "metadata": {},
     "output_type": "execute_result"
    }
   ],
   "source": [
    "air[\"City\"].unique()"
   ]
  },
  {
   "cell_type": "code",
   "execution_count": 19,
   "id": "6520ae9a",
   "metadata": {},
   "outputs": [],
   "source": [
    "fill_col=[\"PM2.5\",\"PM10\",\"NO\",\"NO2\",\"NOx\",\"NH3\",\"CO\",\"SO2\",\"O3\",\"Benzene\",\"Toluene\",\"Xylene\",\"AQI\"]"
   ]
  },
  {
   "cell_type": "code",
   "execution_count": 20,
   "id": "94529431",
   "metadata": {},
   "outputs": [
    {
     "data": {
      "text/html": [
       "<div>\n",
       "<style scoped>\n",
       "    .dataframe tbody tr th:only-of-type {\n",
       "        vertical-align: middle;\n",
       "    }\n",
       "\n",
       "    .dataframe tbody tr th {\n",
       "        vertical-align: top;\n",
       "    }\n",
       "\n",
       "    .dataframe thead th {\n",
       "        text-align: right;\n",
       "    }\n",
       "</style>\n",
       "<table border=\"1\" class=\"dataframe\">\n",
       "  <thead>\n",
       "    <tr style=\"text-align: right;\">\n",
       "      <th></th>\n",
       "      <th>City</th>\n",
       "      <th>Datetime</th>\n",
       "      <th>PM2.5</th>\n",
       "      <th>PM10</th>\n",
       "      <th>NO</th>\n",
       "      <th>NO2</th>\n",
       "      <th>NOx</th>\n",
       "      <th>NH3</th>\n",
       "      <th>CO</th>\n",
       "      <th>SO2</th>\n",
       "      <th>O3</th>\n",
       "      <th>Benzene</th>\n",
       "      <th>Toluene</th>\n",
       "      <th>Xylene</th>\n",
       "      <th>AQI</th>\n",
       "      <th>AQI_Bucket</th>\n",
       "    </tr>\n",
       "  </thead>\n",
       "  <tbody>\n",
       "    <tr>\n",
       "      <th>0</th>\n",
       "      <td>Ahmedabad</td>\n",
       "      <td>2015-01-01 01:00:00</td>\n",
       "      <td>NaN</td>\n",
       "      <td>NaN</td>\n",
       "      <td>1.00</td>\n",
       "      <td>40.01</td>\n",
       "      <td>36.37</td>\n",
       "      <td>NaN</td>\n",
       "      <td>1.00</td>\n",
       "      <td>122.07</td>\n",
       "      <td>NaN</td>\n",
       "      <td>0.0</td>\n",
       "      <td>0.0</td>\n",
       "      <td>0.0</td>\n",
       "      <td>NaN</td>\n",
       "      <td>NaN</td>\n",
       "    </tr>\n",
       "    <tr>\n",
       "      <th>1</th>\n",
       "      <td>Ahmedabad</td>\n",
       "      <td>2015-01-01 02:00:00</td>\n",
       "      <td>NaN</td>\n",
       "      <td>NaN</td>\n",
       "      <td>0.02</td>\n",
       "      <td>27.75</td>\n",
       "      <td>19.73</td>\n",
       "      <td>NaN</td>\n",
       "      <td>0.02</td>\n",
       "      <td>85.90</td>\n",
       "      <td>NaN</td>\n",
       "      <td>0.0</td>\n",
       "      <td>0.0</td>\n",
       "      <td>0.0</td>\n",
       "      <td>NaN</td>\n",
       "      <td>NaN</td>\n",
       "    </tr>\n",
       "    <tr>\n",
       "      <th>2</th>\n",
       "      <td>Ahmedabad</td>\n",
       "      <td>2015-01-01 03:00:00</td>\n",
       "      <td>NaN</td>\n",
       "      <td>NaN</td>\n",
       "      <td>0.08</td>\n",
       "      <td>19.32</td>\n",
       "      <td>11.08</td>\n",
       "      <td>NaN</td>\n",
       "      <td>0.08</td>\n",
       "      <td>52.83</td>\n",
       "      <td>NaN</td>\n",
       "      <td>0.0</td>\n",
       "      <td>0.0</td>\n",
       "      <td>0.0</td>\n",
       "      <td>NaN</td>\n",
       "      <td>NaN</td>\n",
       "    </tr>\n",
       "    <tr>\n",
       "      <th>3</th>\n",
       "      <td>Ahmedabad</td>\n",
       "      <td>2015-01-01 04:00:00</td>\n",
       "      <td>NaN</td>\n",
       "      <td>NaN</td>\n",
       "      <td>0.30</td>\n",
       "      <td>16.45</td>\n",
       "      <td>9.20</td>\n",
       "      <td>NaN</td>\n",
       "      <td>0.30</td>\n",
       "      <td>39.53</td>\n",
       "      <td>153.58</td>\n",
       "      <td>0.0</td>\n",
       "      <td>0.0</td>\n",
       "      <td>0.0</td>\n",
       "      <td>NaN</td>\n",
       "      <td>NaN</td>\n",
       "    </tr>\n",
       "    <tr>\n",
       "      <th>4</th>\n",
       "      <td>Ahmedabad</td>\n",
       "      <td>2015-01-01 05:00:00</td>\n",
       "      <td>NaN</td>\n",
       "      <td>NaN</td>\n",
       "      <td>0.12</td>\n",
       "      <td>14.90</td>\n",
       "      <td>7.85</td>\n",
       "      <td>NaN</td>\n",
       "      <td>0.12</td>\n",
       "      <td>32.63</td>\n",
       "      <td>NaN</td>\n",
       "      <td>0.0</td>\n",
       "      <td>0.0</td>\n",
       "      <td>0.0</td>\n",
       "      <td>NaN</td>\n",
       "      <td>NaN</td>\n",
       "    </tr>\n",
       "  </tbody>\n",
       "</table>\n",
       "</div>"
      ],
      "text/plain": [
       "        City             Datetime  PM2.5  PM10    NO    NO2    NOx  NH3    CO  \\\n",
       "0  Ahmedabad  2015-01-01 01:00:00    NaN   NaN  1.00  40.01  36.37  NaN  1.00   \n",
       "1  Ahmedabad  2015-01-01 02:00:00    NaN   NaN  0.02  27.75  19.73  NaN  0.02   \n",
       "2  Ahmedabad  2015-01-01 03:00:00    NaN   NaN  0.08  19.32  11.08  NaN  0.08   \n",
       "3  Ahmedabad  2015-01-01 04:00:00    NaN   NaN  0.30  16.45   9.20  NaN  0.30   \n",
       "4  Ahmedabad  2015-01-01 05:00:00    NaN   NaN  0.12  14.90   7.85  NaN  0.12   \n",
       "\n",
       "      SO2      O3  Benzene  Toluene  Xylene  AQI AQI_Bucket  \n",
       "0  122.07     NaN      0.0      0.0     0.0  NaN        NaN  \n",
       "1   85.90     NaN      0.0      0.0     0.0  NaN        NaN  \n",
       "2   52.83     NaN      0.0      0.0     0.0  NaN        NaN  \n",
       "3   39.53  153.58      0.0      0.0     0.0  NaN        NaN  \n",
       "4   32.63     NaN      0.0      0.0     0.0  NaN        NaN  "
      ]
     },
     "execution_count": 20,
     "metadata": {},
     "output_type": "execute_result"
    }
   ],
   "source": [
    "air.head()"
   ]
  },
  {
   "cell_type": "markdown",
   "id": "7dfd68e8",
   "metadata": {},
   "source": [
    "## Filling Null Values "
   ]
  },
  {
   "cell_type": "code",
   "execution_count": 21,
   "id": "5273a042",
   "metadata": {},
   "outputs": [],
   "source": [
    "for i in fill_col:\n",
    "    air[i] = air[i].fillna(air[i].median())"
   ]
  },
  {
   "cell_type": "code",
   "execution_count": 22,
   "id": "c1d4e55f",
   "metadata": {},
   "outputs": [
    {
     "data": {
      "text/plain": [
       "Index(['City', 'Datetime', 'PM2.5', 'PM10', 'NO', 'NO2', 'NOx', 'NH3', 'CO',\n",
       "       'SO2', 'O3', 'Benzene', 'Toluene', 'Xylene', 'AQI', 'AQI_Bucket'],\n",
       "      dtype='object')"
      ]
     },
     "execution_count": 22,
     "metadata": {},
     "output_type": "execute_result"
    }
   ],
   "source": [
    "air.columns"
   ]
  },
  {
   "cell_type": "code",
   "execution_count": 23,
   "id": "94ea701f",
   "metadata": {},
   "outputs": [
    {
     "data": {
      "text/html": [
       "<div>\n",
       "<style scoped>\n",
       "    .dataframe tbody tr th:only-of-type {\n",
       "        vertical-align: middle;\n",
       "    }\n",
       "\n",
       "    .dataframe tbody tr th {\n",
       "        vertical-align: top;\n",
       "    }\n",
       "\n",
       "    .dataframe thead th {\n",
       "        text-align: right;\n",
       "    }\n",
       "</style>\n",
       "<table border=\"1\" class=\"dataframe\">\n",
       "  <thead>\n",
       "    <tr style=\"text-align: right;\">\n",
       "      <th></th>\n",
       "      <th>City</th>\n",
       "      <th>Datetime</th>\n",
       "      <th>PM2.5</th>\n",
       "      <th>PM10</th>\n",
       "      <th>NO</th>\n",
       "      <th>NO2</th>\n",
       "      <th>NOx</th>\n",
       "      <th>NH3</th>\n",
       "      <th>CO</th>\n",
       "      <th>SO2</th>\n",
       "      <th>O3</th>\n",
       "      <th>Benzene</th>\n",
       "      <th>Toluene</th>\n",
       "      <th>Xylene</th>\n",
       "      <th>AQI</th>\n",
       "      <th>AQI_Bucket</th>\n",
       "    </tr>\n",
       "  </thead>\n",
       "  <tbody>\n",
       "    <tr>\n",
       "      <th>0</th>\n",
       "      <td>Ahmedabad</td>\n",
       "      <td>2015-01-01 01:00:00</td>\n",
       "      <td>46.42</td>\n",
       "      <td>91.5</td>\n",
       "      <td>1.00</td>\n",
       "      <td>40.01</td>\n",
       "      <td>36.37</td>\n",
       "      <td>15.38</td>\n",
       "      <td>1.00</td>\n",
       "      <td>122.07</td>\n",
       "      <td>26.24</td>\n",
       "      <td>0.0</td>\n",
       "      <td>0.0</td>\n",
       "      <td>0.0</td>\n",
       "      <td>116.0</td>\n",
       "      <td>NaN</td>\n",
       "    </tr>\n",
       "    <tr>\n",
       "      <th>1</th>\n",
       "      <td>Ahmedabad</td>\n",
       "      <td>2015-01-01 02:00:00</td>\n",
       "      <td>46.42</td>\n",
       "      <td>91.5</td>\n",
       "      <td>0.02</td>\n",
       "      <td>27.75</td>\n",
       "      <td>19.73</td>\n",
       "      <td>15.38</td>\n",
       "      <td>0.02</td>\n",
       "      <td>85.90</td>\n",
       "      <td>26.24</td>\n",
       "      <td>0.0</td>\n",
       "      <td>0.0</td>\n",
       "      <td>0.0</td>\n",
       "      <td>116.0</td>\n",
       "      <td>NaN</td>\n",
       "    </tr>\n",
       "    <tr>\n",
       "      <th>2</th>\n",
       "      <td>Ahmedabad</td>\n",
       "      <td>2015-01-01 03:00:00</td>\n",
       "      <td>46.42</td>\n",
       "      <td>91.5</td>\n",
       "      <td>0.08</td>\n",
       "      <td>19.32</td>\n",
       "      <td>11.08</td>\n",
       "      <td>15.38</td>\n",
       "      <td>0.08</td>\n",
       "      <td>52.83</td>\n",
       "      <td>26.24</td>\n",
       "      <td>0.0</td>\n",
       "      <td>0.0</td>\n",
       "      <td>0.0</td>\n",
       "      <td>116.0</td>\n",
       "      <td>NaN</td>\n",
       "    </tr>\n",
       "    <tr>\n",
       "      <th>3</th>\n",
       "      <td>Ahmedabad</td>\n",
       "      <td>2015-01-01 04:00:00</td>\n",
       "      <td>46.42</td>\n",
       "      <td>91.5</td>\n",
       "      <td>0.30</td>\n",
       "      <td>16.45</td>\n",
       "      <td>9.20</td>\n",
       "      <td>15.38</td>\n",
       "      <td>0.30</td>\n",
       "      <td>39.53</td>\n",
       "      <td>153.58</td>\n",
       "      <td>0.0</td>\n",
       "      <td>0.0</td>\n",
       "      <td>0.0</td>\n",
       "      <td>116.0</td>\n",
       "      <td>NaN</td>\n",
       "    </tr>\n",
       "    <tr>\n",
       "      <th>4</th>\n",
       "      <td>Ahmedabad</td>\n",
       "      <td>2015-01-01 05:00:00</td>\n",
       "      <td>46.42</td>\n",
       "      <td>91.5</td>\n",
       "      <td>0.12</td>\n",
       "      <td>14.90</td>\n",
       "      <td>7.85</td>\n",
       "      <td>15.38</td>\n",
       "      <td>0.12</td>\n",
       "      <td>32.63</td>\n",
       "      <td>26.24</td>\n",
       "      <td>0.0</td>\n",
       "      <td>0.0</td>\n",
       "      <td>0.0</td>\n",
       "      <td>116.0</td>\n",
       "      <td>NaN</td>\n",
       "    </tr>\n",
       "  </tbody>\n",
       "</table>\n",
       "</div>"
      ],
      "text/plain": [
       "        City             Datetime  PM2.5  PM10    NO    NO2    NOx    NH3  \\\n",
       "0  Ahmedabad  2015-01-01 01:00:00  46.42  91.5  1.00  40.01  36.37  15.38   \n",
       "1  Ahmedabad  2015-01-01 02:00:00  46.42  91.5  0.02  27.75  19.73  15.38   \n",
       "2  Ahmedabad  2015-01-01 03:00:00  46.42  91.5  0.08  19.32  11.08  15.38   \n",
       "3  Ahmedabad  2015-01-01 04:00:00  46.42  91.5  0.30  16.45   9.20  15.38   \n",
       "4  Ahmedabad  2015-01-01 05:00:00  46.42  91.5  0.12  14.90   7.85  15.38   \n",
       "\n",
       "     CO     SO2      O3  Benzene  Toluene  Xylene    AQI AQI_Bucket  \n",
       "0  1.00  122.07   26.24      0.0      0.0     0.0  116.0        NaN  \n",
       "1  0.02   85.90   26.24      0.0      0.0     0.0  116.0        NaN  \n",
       "2  0.08   52.83   26.24      0.0      0.0     0.0  116.0        NaN  \n",
       "3  0.30   39.53  153.58      0.0      0.0     0.0  116.0        NaN  \n",
       "4  0.12   32.63   26.24      0.0      0.0     0.0  116.0        NaN  "
      ]
     },
     "execution_count": 23,
     "metadata": {},
     "output_type": "execute_result"
    }
   ],
   "source": [
    "air.head()"
   ]
  },
  {
   "cell_type": "code",
   "execution_count": 24,
   "id": "b18e5973",
   "metadata": {},
   "outputs": [
    {
     "data": {
      "text/plain": [
       "array([nan, 'Poor', 'Moderate', 'Very Poor', 'Severe', 'Satisfactory',\n",
       "       'Good'], dtype=object)"
      ]
     },
     "execution_count": 24,
     "metadata": {},
     "output_type": "execute_result"
    }
   ],
   "source": [
    "air[\"AQI_Bucket\"].unique()"
   ]
  },
  {
   "cell_type": "code",
   "execution_count": 25,
   "id": "7f5643c5",
   "metadata": {},
   "outputs": [],
   "source": [
    "air[\"AQI_Bucket\"]=air[\"AQI_Bucket\"].fillna(\"Moderate\")"
   ]
  },
  {
   "cell_type": "code",
   "execution_count": 26,
   "id": "7cbdd54e",
   "metadata": {},
   "outputs": [
    {
     "data": {
      "text/plain": [
       "<AxesSubplot:>"
      ]
     },
     "execution_count": 26,
     "metadata": {},
     "output_type": "execute_result"
    },
    {
     "data": {
      "image/png": "[encoded data removed]",
      "text/plain": [
       "<Figure size 432x288 with 1 Axes>"
      ]
     },
     "metadata": {
      "needs_background": "light"
     },
     "output_type": "display_data"
    }
   ],
   "source": [
    "sns.heatmap(air.isnull(),yticklabels=False,cbar=False,cmap='viridis')"
   ]
  },
  {
   "cell_type": "code",
   "execution_count": 27,
   "id": "73fd481d",
   "metadata": {},
   "outputs": [
    {
     "data": {
      "text/plain": [
       "City\n",
       "Ahmedabad             48192\n",
       "Delhi                 48192\n",
       "Mumbai                48192\n",
       "Bengaluru             48192\n",
       "Lucknow               48192\n",
       "Chennai               48192\n",
       "Hyderabad             48107\n",
       "Patna                 44554\n",
       "Gurugram              40258\n",
       "Visakhapatnam         35053\n",
       "Amritsar              29269\n",
       "Jorapokhar            28025\n",
       "Jaipur                26705\n",
       "Thiruvananthapuram    26651\n",
       "Amaravati             22784\n",
       "Brajrajnagar          22468\n",
       "Talcher               22161\n",
       "Kolkata               19503\n",
       "Guwahati              12002\n",
       "Coimbatore             9229\n",
       "Shillong               7402\n",
       "Chandigarh             7263\n",
       "Bhopal                 6903\n",
       "Kochi                  3854\n",
       "Ernakulam              3852\n",
       "Aizawl                 2680\n",
       "dtype: int64"
      ]
     },
     "execution_count": 27,
     "metadata": {},
     "output_type": "execute_result"
    }
   ],
   "source": [
    "air.value_counts(\"City\")"
   ]
  },
  {
   "cell_type": "code",
   "execution_count": 28,
   "id": "30ec76eb",
   "metadata": {},
   "outputs": [
    {
     "data": {
      "text/html": [
       "<div>\n",
       "<style scoped>\n",
       "    .dataframe tbody tr th:only-of-type {\n",
       "        vertical-align: middle;\n",
       "    }\n",
       "\n",
       "    .dataframe tbody tr th {\n",
       "        vertical-align: top;\n",
       "    }\n",
       "\n",
       "    .dataframe thead th {\n",
       "        text-align: right;\n",
       "    }\n",
       "</style>\n",
       "<table border=\"1\" class=\"dataframe\">\n",
       "  <thead>\n",
       "    <tr style=\"text-align: right;\">\n",
       "      <th></th>\n",
       "      <th>City</th>\n",
       "      <th>Datetime</th>\n",
       "      <th>PM2.5</th>\n",
       "      <th>PM10</th>\n",
       "      <th>NO</th>\n",
       "      <th>NO2</th>\n",
       "      <th>NOx</th>\n",
       "      <th>NH3</th>\n",
       "      <th>CO</th>\n",
       "      <th>SO2</th>\n",
       "      <th>O3</th>\n",
       "      <th>Benzene</th>\n",
       "      <th>Toluene</th>\n",
       "      <th>Xylene</th>\n",
       "      <th>AQI</th>\n",
       "      <th>AQI_Bucket</th>\n",
       "    </tr>\n",
       "  </thead>\n",
       "  <tbody>\n",
       "    <tr>\n",
       "      <th>0</th>\n",
       "      <td>Ahmedabad</td>\n",
       "      <td>2015-01-01 01:00:00</td>\n",
       "      <td>46.42</td>\n",
       "      <td>91.5</td>\n",
       "      <td>1.00</td>\n",
       "      <td>40.01</td>\n",
       "      <td>36.37</td>\n",
       "      <td>15.38</td>\n",
       "      <td>1.00</td>\n",
       "      <td>122.07</td>\n",
       "      <td>26.24</td>\n",
       "      <td>0.0</td>\n",
       "      <td>0.0</td>\n",
       "      <td>0.0</td>\n",
       "      <td>116.0</td>\n",
       "      <td>Moderate</td>\n",
       "    </tr>\n",
       "    <tr>\n",
       "      <th>1</th>\n",
       "      <td>Ahmedabad</td>\n",
       "      <td>2015-01-01 02:00:00</td>\n",
       "      <td>46.42</td>\n",
       "      <td>91.5</td>\n",
       "      <td>0.02</td>\n",
       "      <td>27.75</td>\n",
       "      <td>19.73</td>\n",
       "      <td>15.38</td>\n",
       "      <td>0.02</td>\n",
       "      <td>85.90</td>\n",
       "      <td>26.24</td>\n",
       "      <td>0.0</td>\n",
       "      <td>0.0</td>\n",
       "      <td>0.0</td>\n",
       "      <td>116.0</td>\n",
       "      <td>Moderate</td>\n",
       "    </tr>\n",
       "    <tr>\n",
       "      <th>2</th>\n",
       "      <td>Ahmedabad</td>\n",
       "      <td>2015-01-01 03:00:00</td>\n",
       "      <td>46.42</td>\n",
       "      <td>91.5</td>\n",
       "      <td>0.08</td>\n",
       "      <td>19.32</td>\n",
       "      <td>11.08</td>\n",
       "      <td>15.38</td>\n",
       "      <td>0.08</td>\n",
       "      <td>52.83</td>\n",
       "      <td>26.24</td>\n",
       "      <td>0.0</td>\n",
       "      <td>0.0</td>\n",
       "      <td>0.0</td>\n",
       "      <td>116.0</td>\n",
       "      <td>Moderate</td>\n",
       "    </tr>\n",
       "    <tr>\n",
       "      <th>3</th>\n",
       "      <td>Ahmedabad</td>\n",
       "      <td>2015-01-01 04:00:00</td>\n",
       "      <td>46.42</td>\n",
       "      <td>91.5</td>\n",
       "      <td>0.30</td>\n",
       "      <td>16.45</td>\n",
       "      <td>9.20</td>\n",
       "      <td>15.38</td>\n",
       "      <td>0.30</td>\n",
       "      <td>39.53</td>\n",
       "      <td>153.58</td>\n",
       "      <td>0.0</td>\n",
       "      <td>0.0</td>\n",
       "      <td>0.0</td>\n",
       "      <td>116.0</td>\n",
       "      <td>Moderate</td>\n",
       "    </tr>\n",
       "    <tr>\n",
       "      <th>4</th>\n",
       "      <td>Ahmedabad</td>\n",
       "      <td>2015-01-01 05:00:00</td>\n",
       "      <td>46.42</td>\n",
       "      <td>91.5</td>\n",
       "      <td>0.12</td>\n",
       "      <td>14.90</td>\n",
       "      <td>7.85</td>\n",
       "      <td>15.38</td>\n",
       "      <td>0.12</td>\n",
       "      <td>32.63</td>\n",
       "      <td>26.24</td>\n",
       "      <td>0.0</td>\n",
       "      <td>0.0</td>\n",
       "      <td>0.0</td>\n",
       "      <td>116.0</td>\n",
       "      <td>Moderate</td>\n",
       "    </tr>\n",
       "  </tbody>\n",
       "</table>\n",
       "</div>"
      ],
      "text/plain": [
       "        City             Datetime  PM2.5  PM10    NO    NO2    NOx    NH3  \\\n",
       "0  Ahmedabad  2015-01-01 01:00:00  46.42  91.5  1.00  40.01  36.37  15.38   \n",
       "1  Ahmedabad  2015-01-01 02:00:00  46.42  91.5  0.02  27.75  19.73  15.38   \n",
       "2  Ahmedabad  2015-01-01 03:00:00  46.42  91.5  0.08  19.32  11.08  15.38   \n",
       "3  Ahmedabad  2015-01-01 04:00:00  46.42  91.5  0.30  16.45   9.20  15.38   \n",
       "4  Ahmedabad  2015-01-01 05:00:00  46.42  91.5  0.12  14.90   7.85  15.38   \n",
       "\n",
       "     CO     SO2      O3  Benzene  Toluene  Xylene    AQI AQI_Bucket  \n",
       "0  1.00  122.07   26.24      0.0      0.0     0.0  116.0   Moderate  \n",
       "1  0.02   85.90   26.24      0.0      0.0     0.0  116.0   Moderate  \n",
       "2  0.08   52.83   26.24      0.0      0.0     0.0  116.0   Moderate  \n",
       "3  0.30   39.53  153.58      0.0      0.0     0.0  116.0   Moderate  \n",
       "4  0.12   32.63   26.24      0.0      0.0     0.0  116.0   Moderate  "
      ]
     },
     "execution_count": 28,
     "metadata": {},
     "output_type": "execute_result"
    }
   ],
   "source": [
    "air.head()"
   ]
  },
  {
   "cell_type": "markdown",
   "id": "c362b447",
   "metadata": {},
   "source": [
    "# Data and information visualization"
   ]
  },
  {
   "cell_type": "code",
   "execution_count": 29,
   "id": "83dce93d",
   "metadata": {},
   "outputs": [],
   "source": [
    "city_AQI = air[['City','AQI']].groupby(['City']).median().sort_values(['AQI']).reset_index()"
   ]
  },
  {
   "cell_type": "code",
   "execution_count": 39,
   "id": "456e2f1b",
   "metadata": {},
   "outputs": [
    {
     "data": {
      "text/html": [
       "<div>\n",
       "<style scoped>\n",
       "    .dataframe tbody tr th:only-of-type {\n",
       "        vertical-align: middle;\n",
       "    }\n",
       "\n",
       "    .dataframe tbody tr th {\n",
       "        vertical-align: top;\n",
       "    }\n",
       "\n",
       "    .dataframe thead th {\n",
       "        text-align: right;\n",
       "    }\n",
       "</style>\n",
       "<table border=\"1\" class=\"dataframe\">\n",
       "  <thead>\n",
       "    <tr style=\"text-align: right;\">\n",
       "      <th></th>\n",
       "      <th>City</th>\n",
       "      <th>AQI</th>\n",
       "    </tr>\n",
       "  </thead>\n",
       "  <tbody>\n",
       "    <tr>\n",
       "      <th>0</th>\n",
       "      <td>Aizawl</td>\n",
       "      <td>26.0</td>\n",
       "    </tr>\n",
       "    <tr>\n",
       "      <th>1</th>\n",
       "      <td>Thiruvananthapuram</td>\n",
       "      <td>70.0</td>\n",
       "    </tr>\n",
       "    <tr>\n",
       "      <th>2</th>\n",
       "      <td>Shillong</td>\n",
       "      <td>73.0</td>\n",
       "    </tr>\n",
       "    <tr>\n",
       "      <th>3</th>\n",
       "      <td>Coimbatore</td>\n",
       "      <td>79.0</td>\n",
       "    </tr>\n",
       "    <tr>\n",
       "      <th>4</th>\n",
       "      <td>Bengaluru</td>\n",
       "      <td>85.0</td>\n",
       "    </tr>\n",
       "    <tr>\n",
       "      <th>5</th>\n",
       "      <td>Chandigarh</td>\n",
       "      <td>85.0</td>\n",
       "    </tr>\n",
       "    <tr>\n",
       "      <th>6</th>\n",
       "      <td>Amaravati</td>\n",
       "      <td>90.0</td>\n",
       "    </tr>\n",
       "    <tr>\n",
       "      <th>7</th>\n",
       "      <td>Ernakulam</td>\n",
       "      <td>100.0</td>\n",
       "    </tr>\n",
       "    <tr>\n",
       "      <th>8</th>\n",
       "      <td>Chennai</td>\n",
       "      <td>101.0</td>\n",
       "    </tr>\n",
       "    <tr>\n",
       "      <th>9</th>\n",
       "      <td>Kochi</td>\n",
       "      <td>101.0</td>\n",
       "    </tr>\n",
       "    <tr>\n",
       "      <th>10</th>\n",
       "      <td>Guwahati</td>\n",
       "      <td>101.0</td>\n",
       "    </tr>\n",
       "    <tr>\n",
       "      <th>11</th>\n",
       "      <td>Kolkata</td>\n",
       "      <td>105.0</td>\n",
       "    </tr>\n",
       "    <tr>\n",
       "      <th>12</th>\n",
       "      <td>Hyderabad</td>\n",
       "      <td>105.0</td>\n",
       "    </tr>\n",
       "    <tr>\n",
       "      <th>13</th>\n",
       "      <td>Amritsar</td>\n",
       "      <td>109.0</td>\n",
       "    </tr>\n",
       "    <tr>\n",
       "      <th>14</th>\n",
       "      <td>Visakhapatnam</td>\n",
       "      <td>116.0</td>\n",
       "    </tr>\n",
       "    <tr>\n",
       "      <th>15</th>\n",
       "      <td>Jorapokhar</td>\n",
       "      <td>116.0</td>\n",
       "    </tr>\n",
       "    <tr>\n",
       "      <th>16</th>\n",
       "      <td>Talcher</td>\n",
       "      <td>116.0</td>\n",
       "    </tr>\n",
       "    <tr>\n",
       "      <th>17</th>\n",
       "      <td>Mumbai</td>\n",
       "      <td>116.0</td>\n",
       "    </tr>\n",
       "    <tr>\n",
       "      <th>18</th>\n",
       "      <td>Brajrajnagar</td>\n",
       "      <td>116.0</td>\n",
       "    </tr>\n",
       "    <tr>\n",
       "      <th>19</th>\n",
       "      <td>Bhopal</td>\n",
       "      <td>118.0</td>\n",
       "    </tr>\n",
       "    <tr>\n",
       "      <th>20</th>\n",
       "      <td>Jaipur</td>\n",
       "      <td>119.0</td>\n",
       "    </tr>\n",
       "    <tr>\n",
       "      <th>21</th>\n",
       "      <td>Patna</td>\n",
       "      <td>142.0</td>\n",
       "    </tr>\n",
       "    <tr>\n",
       "      <th>22</th>\n",
       "      <td>Gurugram</td>\n",
       "      <td>165.0</td>\n",
       "    </tr>\n",
       "    <tr>\n",
       "      <th>23</th>\n",
       "      <td>Lucknow</td>\n",
       "      <td>187.0</td>\n",
       "    </tr>\n",
       "    <tr>\n",
       "      <th>24</th>\n",
       "      <td>Ahmedabad</td>\n",
       "      <td>188.0</td>\n",
       "    </tr>\n",
       "    <tr>\n",
       "      <th>25</th>\n",
       "      <td>Delhi</td>\n",
       "      <td>256.0</td>\n",
       "    </tr>\n",
       "  </tbody>\n",
       "</table>\n",
       "</div>"
      ],
      "text/plain": [
       "                  City    AQI\n",
       "0               Aizawl   26.0\n",
       "1   Thiruvananthapuram   70.0\n",
       "2             Shillong   73.0\n",
       "3           Coimbatore   79.0\n",
       "4            Bengaluru   85.0\n",
       "5           Chandigarh   85.0\n",
       "6            Amaravati   90.0\n",
       "7            Ernakulam  100.0\n",
       "8              Chennai  101.0\n",
       "9                Kochi  101.0\n",
       "10            Guwahati  101.0\n",
       "11             Kolkata  105.0\n",
       "12           Hyderabad  105.0\n",
       "13            Amritsar  109.0\n",
       "14       Visakhapatnam  116.0\n",
       "15          Jorapokhar  116.0\n",
       "16             Talcher  116.0\n",
       "17              Mumbai  116.0\n",
       "18        Brajrajnagar  116.0\n",
       "19              Bhopal  118.0\n",
       "20              Jaipur  119.0\n",
       "21               Patna  142.0\n",
       "22            Gurugram  165.0\n",
       "23             Lucknow  187.0\n",
       "24           Ahmedabad  188.0\n",
       "25               Delhi  256.0"
      ]
     },
     "execution_count": 39,
     "metadata": {},
     "output_type": "execute_result"
    }
   ],
   "source": [
    "city_AQI"
   ]
  },
  {
   "cell_type": "code",
   "execution_count": 31,
   "id": "c6d29210",
   "metadata": {},
   "outputs": [
    {
     "data": {
      "text/plain": [
       "<function matplotlib.pyplot.tight_layout(*, pad=1.08, h_pad=None, w_pad=None, rect=None)>"
      ]
     },
     "execution_count": 31,
     "metadata": {},
     "output_type": "execute_result"
    },
    {
     "data": {
      "image/png": "[encoded data removed]",
      "text/plain": [
       "<Figure size 1224x360 with 1 Axes>"
      ]
     },
     "metadata": {
      "needs_background": "light"
     },
     "output_type": "display_data"
    }
   ],
   "source": [
    "plt.figure(figsize=(17,5))\n",
    "sns.barplot(x=\"City\",y=\"AQI\",data=city_AQI)\n",
    "plt.title(label=\"AQI by Cities\")\n",
    "plt.xticks(rotation=90)\n",
    "plt.tight_layout"
   ]
  },
  {
   "cell_type": "code",
   "execution_count": 32,
   "id": "cbec0795",
   "metadata": {},
   "outputs": [],
   "source": [
    "df1=pd.read_csv(\"Indian_cities.csv\")"
   ]
  },
  {
   "cell_type": "code",
   "execution_count": 33,
   "id": "2d9217af",
   "metadata": {},
   "outputs": [
    {
     "data": {
      "text/html": [
       "<div>\n",
       "<style scoped>\n",
       "    .dataframe tbody tr th:only-of-type {\n",
       "        vertical-align: middle;\n",
       "    }\n",
       "\n",
       "    .dataframe tbody tr th {\n",
       "        vertical-align: top;\n",
       "    }\n",
       "\n",
       "    .dataframe thead th {\n",
       "        text-align: right;\n",
       "    }\n",
       "</style>\n",
       "<table border=\"1\" class=\"dataframe\">\n",
       "  <thead>\n",
       "    <tr style=\"text-align: right;\">\n",
       "      <th></th>\n",
       "      <th>City</th>\n",
       "      <th>State</th>\n",
       "      <th>Latitude</th>\n",
       "      <th>Longitude</th>\n",
       "    </tr>\n",
       "  </thead>\n",
       "  <tbody>\n",
       "    <tr>\n",
       "      <th>0</th>\n",
       "      <td>Nanjangud</td>\n",
       "      <td>Karnataka</td>\n",
       "      <td>12.120000</td>\n",
       "      <td>76.680000</td>\n",
       "    </tr>\n",
       "    <tr>\n",
       "      <th>1</th>\n",
       "      <td>Chittorgarh</td>\n",
       "      <td>Rajasthan</td>\n",
       "      <td>24.879999</td>\n",
       "      <td>74.629997</td>\n",
       "    </tr>\n",
       "    <tr>\n",
       "      <th>2</th>\n",
       "      <td>Ratnagiri</td>\n",
       "      <td>Maharashtra</td>\n",
       "      <td>16.994444</td>\n",
       "      <td>73.300003</td>\n",
       "    </tr>\n",
       "    <tr>\n",
       "      <th>3</th>\n",
       "      <td>Goregaon</td>\n",
       "      <td>Maharashtra</td>\n",
       "      <td>19.155001</td>\n",
       "      <td>72.849998</td>\n",
       "    </tr>\n",
       "    <tr>\n",
       "      <th>4</th>\n",
       "      <td>Pindwara</td>\n",
       "      <td>Rajasthan</td>\n",
       "      <td>24.794500</td>\n",
       "      <td>73.055000</td>\n",
       "    </tr>\n",
       "  </tbody>\n",
       "</table>\n",
       "</div>"
      ],
      "text/plain": [
       "          City        State   Latitude  Longitude\n",
       "0    Nanjangud    Karnataka  12.120000  76.680000\n",
       "1  Chittorgarh    Rajasthan  24.879999  74.629997\n",
       "2    Ratnagiri  Maharashtra  16.994444  73.300003\n",
       "3     Goregaon  Maharashtra  19.155001  72.849998\n",
       "4     Pindwara    Rajasthan  24.794500  73.055000"
      ]
     },
     "execution_count": 33,
     "metadata": {},
     "output_type": "execute_result"
    }
   ],
   "source": [
    "df1.head()"
   ]
  },
  {
   "cell_type": "code",
   "execution_count": 34,
   "id": "b5b12232",
   "metadata": {},
   "outputs": [],
   "source": [
    "air2=pd.merge(air, df1, on='City')"
   ]
  },
  {
   "cell_type": "code",
   "execution_count": 35,
   "id": "05c33126",
   "metadata": {},
   "outputs": [],
   "source": [
    "air3=pd.merge(city_AQI, df1, on='City')"
   ]
  },
  {
   "cell_type": "code",
   "execution_count": 36,
   "id": "7a85637e",
   "metadata": {},
   "outputs": [
    {
     "data": {
      "text/html": [
       "<div>\n",
       "<style scoped>\n",
       "    .dataframe tbody tr th:only-of-type {\n",
       "        vertical-align: middle;\n",
       "    }\n",
       "\n",
       "    .dataframe tbody tr th {\n",
       "        vertical-align: top;\n",
       "    }\n",
       "\n",
       "    .dataframe thead th {\n",
       "        text-align: right;\n",
       "    }\n",
       "</style>\n",
       "<table border=\"1\" class=\"dataframe\">\n",
       "  <thead>\n",
       "    <tr style=\"text-align: right;\">\n",
       "      <th></th>\n",
       "      <th>City</th>\n",
       "      <th>Datetime</th>\n",
       "      <th>PM2.5</th>\n",
       "      <th>PM10</th>\n",
       "      <th>NO</th>\n",
       "      <th>NO2</th>\n",
       "      <th>NOx</th>\n",
       "      <th>NH3</th>\n",
       "      <th>CO</th>\n",
       "      <th>SO2</th>\n",
       "      <th>O3</th>\n",
       "      <th>Benzene</th>\n",
       "      <th>Toluene</th>\n",
       "      <th>Xylene</th>\n",
       "      <th>AQI</th>\n",
       "      <th>AQI_Bucket</th>\n",
       "      <th>State</th>\n",
       "      <th>Latitude</th>\n",
       "      <th>Longitude</th>\n",
       "    </tr>\n",
       "  </thead>\n",
       "  <tbody>\n",
       "    <tr>\n",
       "      <th>0</th>\n",
       "      <td>Ahmedabad</td>\n",
       "      <td>2015-01-01 01:00:00</td>\n",
       "      <td>46.42</td>\n",
       "      <td>91.5</td>\n",
       "      <td>1.00</td>\n",
       "      <td>40.01</td>\n",
       "      <td>36.37</td>\n",
       "      <td>15.38</td>\n",
       "      <td>1.00</td>\n",
       "      <td>122.07</td>\n",
       "      <td>26.24</td>\n",
       "      <td>0.0</td>\n",
       "      <td>0.0</td>\n",
       "      <td>0.0</td>\n",
       "      <td>116.0</td>\n",
       "      <td>Moderate</td>\n",
       "      <td>Gujarat</td>\n",
       "      <td>23.033863</td>\n",
       "      <td>72.585022</td>\n",
       "    </tr>\n",
       "    <tr>\n",
       "      <th>1</th>\n",
       "      <td>Ahmedabad</td>\n",
       "      <td>2015-01-01 02:00:00</td>\n",
       "      <td>46.42</td>\n",
       "      <td>91.5</td>\n",
       "      <td>0.02</td>\n",
       "      <td>27.75</td>\n",
       "      <td>19.73</td>\n",
       "      <td>15.38</td>\n",
       "      <td>0.02</td>\n",
       "      <td>85.90</td>\n",
       "      <td>26.24</td>\n",
       "      <td>0.0</td>\n",
       "      <td>0.0</td>\n",
       "      <td>0.0</td>\n",
       "      <td>116.0</td>\n",
       "      <td>Moderate</td>\n",
       "      <td>Gujarat</td>\n",
       "      <td>23.033863</td>\n",
       "      <td>72.585022</td>\n",
       "    </tr>\n",
       "    <tr>\n",
       "      <th>2</th>\n",
       "      <td>Ahmedabad</td>\n",
       "      <td>2015-01-01 03:00:00</td>\n",
       "      <td>46.42</td>\n",
       "      <td>91.5</td>\n",
       "      <td>0.08</td>\n",
       "      <td>19.32</td>\n",
       "      <td>11.08</td>\n",
       "      <td>15.38</td>\n",
       "      <td>0.08</td>\n",
       "      <td>52.83</td>\n",
       "      <td>26.24</td>\n",
       "      <td>0.0</td>\n",
       "      <td>0.0</td>\n",
       "      <td>0.0</td>\n",
       "      <td>116.0</td>\n",
       "      <td>Moderate</td>\n",
       "      <td>Gujarat</td>\n",
       "      <td>23.033863</td>\n",
       "      <td>72.585022</td>\n",
       "    </tr>\n",
       "    <tr>\n",
       "      <th>3</th>\n",
       "      <td>Ahmedabad</td>\n",
       "      <td>2015-01-01 04:00:00</td>\n",
       "      <td>46.42</td>\n",
       "      <td>91.5</td>\n",
       "      <td>0.30</td>\n",
       "      <td>16.45</td>\n",
       "      <td>9.20</td>\n",
       "      <td>15.38</td>\n",
       "      <td>0.30</td>\n",
       "      <td>39.53</td>\n",
       "      <td>153.58</td>\n",
       "      <td>0.0</td>\n",
       "      <td>0.0</td>\n",
       "      <td>0.0</td>\n",
       "      <td>116.0</td>\n",
       "      <td>Moderate</td>\n",
       "      <td>Gujarat</td>\n",
       "      <td>23.033863</td>\n",
       "      <td>72.585022</td>\n",
       "    </tr>\n",
       "    <tr>\n",
       "      <th>4</th>\n",
       "      <td>Ahmedabad</td>\n",
       "      <td>2015-01-01 05:00:00</td>\n",
       "      <td>46.42</td>\n",
       "      <td>91.5</td>\n",
       "      <td>0.12</td>\n",
       "      <td>14.90</td>\n",
       "      <td>7.85</td>\n",
       "      <td>15.38</td>\n",
       "      <td>0.12</td>\n",
       "      <td>32.63</td>\n",
       "      <td>26.24</td>\n",
       "      <td>0.0</td>\n",
       "      <td>0.0</td>\n",
       "      <td>0.0</td>\n",
       "      <td>116.0</td>\n",
       "      <td>Moderate</td>\n",
       "      <td>Gujarat</td>\n",
       "      <td>23.033863</td>\n",
       "      <td>72.585022</td>\n",
       "    </tr>\n",
       "  </tbody>\n",
       "</table>\n",
       "</div>"
      ],
      "text/plain": [
       "        City             Datetime  PM2.5  PM10    NO    NO2    NOx    NH3  \\\n",
       "0  Ahmedabad  2015-01-01 01:00:00  46.42  91.5  1.00  40.01  36.37  15.38   \n",
       "1  Ahmedabad  2015-01-01 02:00:00  46.42  91.5  0.02  27.75  19.73  15.38   \n",
       "2  Ahmedabad  2015-01-01 03:00:00  46.42  91.5  0.08  19.32  11.08  15.38   \n",
       "3  Ahmedabad  2015-01-01 04:00:00  46.42  91.5  0.30  16.45   9.20  15.38   \n",
       "4  Ahmedabad  2015-01-01 05:00:00  46.42  91.5  0.12  14.90   7.85  15.38   \n",
       "\n",
       "     CO     SO2      O3  Benzene  Toluene  Xylene    AQI AQI_Bucket    State  \\\n",
       "0  1.00  122.07   26.24      0.0      0.0     0.0  116.0   Moderate  Gujarat   \n",
       "1  0.02   85.90   26.24      0.0      0.0     0.0  116.0   Moderate  Gujarat   \n",
       "2  0.08   52.83   26.24      0.0      0.0     0.0  116.0   Moderate  Gujarat   \n",
       "3  0.30   39.53  153.58      0.0      0.0     0.0  116.0   Moderate  Gujarat   \n",
       "4  0.12   32.63   26.24      0.0      0.0     0.0  116.0   Moderate  Gujarat   \n",
       "\n",
       "    Latitude  Longitude  \n",
       "0  23.033863  72.585022  \n",
       "1  23.033863  72.585022  \n",
       "2  23.033863  72.585022  \n",
       "3  23.033863  72.585022  \n",
       "4  23.033863  72.585022  "
      ]
     },
     "execution_count": 36,
     "metadata": {},
     "output_type": "execute_result"
    }
   ],
   "source": [
    "air2.head()"
   ]
  },
  {
   "cell_type": "code",
   "execution_count": 40,
   "id": "bd9bbec6",
   "metadata": {},
   "outputs": [
    {
     "data": {
      "application/vnd.plotly.v1+json": {
       "config": {
        "plotlyServerURL": "https://plot.ly"
       },
       "data": [
        {
         "customdata": [
          [
           26,
           "Aizawl"
          ],
          [
           70,
           "Thiruvananthapuram"
          ],
          [
           79,
           "Coimbatore"
          ],
          [
           79,
           "Coimbatore"
          ],
          [
           85,
           "Bengaluru"
          ],
          [
           85,
           "Chandigarh"
          ],
          [
           101,
           "Chennai"
          ],
          [
           101,
           "Kochi"
          ],
          [
           101,
           "Kochi"
          ],
          [
           101,
           "Guwahati"
          ],
          [
           105,
           "Kolkata"
          ],
          [
           105,
           "Hyderabad"
          ],
          [
           109,
           "Amritsar"
          ],
          [
           116,
           "Visakhapatnam"
          ],
          [
           116,
           "Visakhapatnam"
          ],
          [
           116,
           "Jorapokhar"
          ],
          [
           116,
           "Mumbai"
          ],
          [
           118,
           "Bhopal"
          ],
          [
           119,
           "Jaipur"
          ],
          [
           142,
           "Patna"
          ],
          [
           187,
           "Lucknow"
          ],
          [
           188,
           "Ahmedabad"
          ],
          [
           256,
           "Delhi"
          ]
         ],
         "hovertemplate": "<b>%{hovertext}</b><br><br>AQI=%{marker.color}<br>Latitude=%{lat}<br>Longitude=%{lon}<br>City=%{customdata[1]}<extra></extra>",
         "hovertext": [
          26,
          70,
          79,
          79,
          85,
          85,
          101,
          101,
          101,
          101,
          105,
          105,
          109,
          116,
          116,
          116,
          116,
          118,
          119,
          142,
          187,
          188,
          256
         ],
         "lat": [
          23.727106,
          8.524139,
          11.017363,
          11.004556,
          12.971599,
          30.741482,
          13.067439,
          9.939093,
          9.931233,
          26.148043,
          22.572645,
          17.38714,
          31.63398,
          17.686815,
          17.690474,
          22.422455,
          19.07609,
          23.259933,
          26.92207,
          25.612677,
          26.85,
          23.033863,
          28.679079
         ],
         "legendgroup": "",
         "lon": [
          92.717636,
          76.936638,
          76.958885,
          76.961632,
          77.594566,
          76.768066,
          80.237617,
          76.270523,
          76.267303,
          91.731377,
          88.363892,
          78.491684,
          74.872261,
          83.218483,
          83.231049,
          85.760651,
          72.877426,
          77.412613,
          75.778885,
          85.158875,
          80.949997,
          72.585022,
          77.06971
         ],
         "marker": {
          "color": [
           26,
           70,
           79,
           79,
           85,
           85,
           101,
           101,
           101,
           101,
           105,
           105,
           109,
           116,
           116,
           116,
           116,
           118,
           119,
           142,
           187,
           188,
           256
          ],
          "coloraxis": "coloraxis",
          "size": [
           26,
           70,
           79,
           79,
           85,
           85,
           101,
           101,
           101,
           101,
           105,
           105,
           109,
           116,
           116,
           116,
           116,
           118,
           119,
           142,
           187,
           188,
           256
          ],
          "sizemode": "area",
          "sizeref": 0.64
         },
         "mode": "markers",
         "name": "",
         "showlegend": false,
         "subplot": "mapbox",
         "type": "scattermapbox"
        }
       ],
       "layout": {
        "coloraxis": {
         "colorbar": {
          "title": {
           "text": "AQI"
          }
         },
         "colorscale": [
          [
           0,
           "rgb(0,0,131)"
          ],
          [
           0.2,
           "rgb(0,60,170)"
          ],
          [
           0.4,
           "rgb(5,255,255)"
          ],
          [
           0.6,
           "rgb(255,255,0)"
          ],
          [
           0.8,
           "rgb(250,0,0)"
          ],
          [
           1,
           "rgb(128,0,0)"
          ]
         ]
        },
        "height": 600,
        "legend": {
         "itemsizing": "constant",
         "tracegroupgap": 0
        },
        "mapbox": {
         "center": {
          "lat": 19.995620608695656,
          "lon": 79.9223822173913
         },
         "domain": {
          "x": [
           0,
           1
          ],
          "y": [
           0,
           1
          ]
         },
         "style": "open-street-map",
         "zoom": 3.8
        },
        "margin": {
         "b": 0,
         "l": 0,
         "r": 0,
         "t": 0
        },
        "template": {
         "data": {
          "bar": [
           {
            "error_x": {
             "color": "#2a3f5f"
            },
            "error_y": {
             "color": "#2a3f5f"
            },
            "marker": {
             "line": {
              "color": "#E5ECF6",
              "width": 0.5
             },
             "pattern": {
              "fillmode": "overlay",
              "size": 10,
              "solidity": 0.2
             }
            },
            "type": "bar"
           }
          ],
          "barpolar": [
           {
            "marker": {
             "line": {
              "color": "#E5ECF6",
              "width": 0.5
             },
             "pattern": {
              "fillmode": "overlay",
              "size": 10,
              "solidity": 0.2
             }
            },
            "type": "barpolar"
           }
          ],
          "carpet": [
           {
            "aaxis": {
             "endlinecolor": "#2a3f5f",
             "gridcolor": "white",
             "linecolor": "white",
             "minorgridcolor": "white",
             "startlinecolor": "#2a3f5f"
            },
            "baxis": {
             "endlinecolor": "#2a3f5f",
             "gridcolor": "white",
             "linecolor": "white",
             "minorgridcolor": "white",
             "startlinecolor": "#2a3f5f"
            },
            "type": "carpet"
           }
          ],
          "choropleth": [
           {
            "colorbar": {
             "outlinewidth": 0,
             "ticks": ""
            },
            "type": "choropleth"
           }
          ],
          "contour": [
           {
            "colorbar": {
             "outlinewidth": 0,
             "ticks": ""
            },
            "colorscale": [
             [
              0,
              "#0d0887"
             ],
             [
              0.1111111111111111,
              "#46039f"
             ],
             [
              0.2222222222222222,
              "#7201a8"
             ],
             [
              0.3333333333333333,
              "#9c179e"
             ],
             [
              0.4444444444444444,
              "#bd3786"
             ],
             [
              0.5555555555555556,
              "#d8576b"
             ],
             [
              0.6666666666666666,
              "#ed7953"
             ],
             [
              0.7777777777777778,
              "#fb9f3a"
             ],
             [
              0.8888888888888888,
              "#fdca26"
             ],
             [
              1,
              "#f0f921"
             ]
            ],
            "type": "contour"
           }
          ],
          "contourcarpet": [
           {
            "colorbar": {
             "outlinewidth": 0,
             "ticks": ""
            },
            "type": "contourcarpet"
           }
          ],
          "heatmap": [
           {
            "colorbar": {
             "outlinewidth": 0,
             "ticks": ""
            },
            "colorscale": [
             [
              0,
              "#0d0887"
             ],
             [
              0.1111111111111111,
              "#46039f"
             ],
             [
              0.2222222222222222,
              "#7201a8"
             ],
             [
              0.3333333333333333,
              "#9c179e"
             ],
             [
              0.4444444444444444,
              "#bd3786"
             ],
             [
              0.5555555555555556,
              "#d8576b"
             ],
             [
              0.6666666666666666,
              "#ed7953"
             ],
             [
              0.7777777777777778,
              "#fb9f3a"
             ],
             [
              0.8888888888888888,
              "#fdca26"
             ],
             [
              1,
              "#f0f921"
             ]
            ],
            "type": "heatmap"
           }
          ],
          "heatmapgl": [
           {
            "colorbar": {
             "outlinewidth": 0,
             "ticks": ""
            },
            "colorscale": [
             [
              0,
              "#0d0887"
             ],
             [
              0.1111111111111111,
              "#46039f"
             ],
             [
              0.2222222222222222,
              "#7201a8"
             ],
             [
              0.3333333333333333,
              "#9c179e"
             ],
             [
              0.4444444444444444,
              "#bd3786"
             ],
             [
              0.5555555555555556,
              "#d8576b"
             ],
             [
              0.6666666666666666,
              "#ed7953"
             ],
             [
              0.7777777777777778,
              "#fb9f3a"
             ],
             [
              0.8888888888888888,
              "#fdca26"
             ],
             [
              1,
              "#f0f921"
             ]
            ],
            "type": "heatmapgl"
           }
          ],
          "histogram": [
           {
            "marker": {
             "pattern": {
              "fillmode": "overlay",
              "size": 10,
              "solidity": 0.2
             }
            },
            "type": "histogram"
           }
          ],
          "histogram2d": [
           {
            "colorbar": {
             "outlinewidth": 0,
             "ticks": ""
            },
            "colorscale": [
             [
              0,
              "#0d0887"
             ],
             [
              0.1111111111111111,
              "#46039f"
             ],
             [
              0.2222222222222222,
              "#7201a8"
             ],
             [
              0.3333333333333333,
              "#9c179e"
             ],
             [
              0.4444444444444444,
              "#bd3786"
             ],
             [
              0.5555555555555556,
              "#d8576b"
             ],
             [
              0.6666666666666666,
              "#ed7953"
             ],
             [
              0.7777777777777778,
              "#fb9f3a"
             ],
             [
              0.8888888888888888,
              "#fdca26"
             ],
             [
              1,
              "#f0f921"
             ]
            ],
            "type": "histogram2d"
           }
          ],
          "histogram2dcontour": [
           {
            "colorbar": {
             "outlinewidth": 0,
             "ticks": ""
            },
            "colorscale": [
             [
              0,
              "#0d0887"
             ],
             [
              0.1111111111111111,
              "#46039f"
             ],
             [
              0.2222222222222222,
              "#7201a8"
             ],
             [
              0.3333333333333333,
              "#9c179e"
             ],
             [
              0.4444444444444444,
              "#bd3786"
             ],
             [
              0.5555555555555556,
              "#d8576b"
             ],
             [
              0.6666666666666666,
              "#ed7953"
             ],
             [
              0.7777777777777778,
              "#fb9f3a"
             ],
             [
              0.8888888888888888,
              "#fdca26"
             ],
             [
              1,
              "#f0f921"
             ]
            ],
            "type": "histogram2dcontour"
           }
          ],
          "mesh3d": [
           {
            "colorbar": {
             "outlinewidth": 0,
             "ticks": ""
            },
            "type": "mesh3d"
           }
          ],
          "parcoords": [
           {
            "line": {
             "colorbar": {
              "outlinewidth": 0,
              "ticks": ""
             }
            },
            "type": "parcoords"
           }
          ],
          "pie": [
           {
            "automargin": true,
            "type": "pie"
           }
          ],
          "scatter": [
           {
            "marker": {
             "colorbar": {
              "outlinewidth": 0,
              "ticks": ""
             }
            },
            "type": "scatter"
           }
          ],
          "scatter3d": [
           {
            "line": {
             "colorbar": {
              "outlinewidth": 0,
              "ticks": ""
             }
            },
            "marker": {
             "colorbar": {
              "outlinewidth": 0,
              "ticks": ""
             }
            },
            "type": "scatter3d"
           }
          ],
          "scattercarpet": [
           {
            "marker": {
             "colorbar": {
              "outlinewidth": 0,
              "ticks": ""
             }
            },
            "type": "scattercarpet"
           }
          ],
          "scattergeo": [
           {
            "marker": {
             "colorbar": {
              "outlinewidth": 0,
              "ticks": ""
             }
            },
            "type": "scattergeo"
           }
          ],
          "scattergl": [
           {
            "marker": {
             "colorbar": {
              "outlinewidth": 0,
              "ticks": ""
             }
            },
            "type": "scattergl"
           }
          ],
          "scattermapbox": [
           {
            "marker": {
             "colorbar": {
              "outlinewidth": 0,
              "ticks": ""
             }
            },
            "type": "scattermapbox"
           }
          ],
          "scatterpolar": [
           {
            "marker": {
             "colorbar": {
              "outlinewidth": 0,
              "ticks": ""
             }
            },
            "type": "scatterpolar"
           }
          ],
          "scatterpolargl": [
           {
            "marker": {
             "colorbar": {
              "outlinewidth": 0,
              "ticks": ""
             }
            },
            "type": "scatterpolargl"
           }
          ],
          "scatterternary": [
           {
            "marker": {
             "colorbar": {
              "outlinewidth": 0,
              "ticks": ""
             }
            },
            "type": "scatterternary"
           }
          ],
          "surface": [
           {
            "colorbar": {
             "outlinewidth": 0,
             "ticks": ""
            },
            "colorscale": [
             [
              0,
              "#0d0887"
             ],
             [
              0.1111111111111111,
              "#46039f"
             ],
             [
              0.2222222222222222,
              "#7201a8"
             ],
             [
              0.3333333333333333,
              "#9c179e"
             ],
             [
              0.4444444444444444,
              "#bd3786"
             ],
             [
              0.5555555555555556,
              "#d8576b"
             ],
             [
              0.6666666666666666,
              "#ed7953"
             ],
             [
              0.7777777777777778,
              "#fb9f3a"
             ],
             [
              0.8888888888888888,
              "#fdca26"
             ],
             [
              1,
              "#f0f921"
             ]
            ],
            "type": "surface"
           }
          ],
          "table": [
           {
            "cells": {
             "fill": {
              "color": "#EBF0F8"
             },
             "line": {
              "color": "white"
             }
            },
            "header": {
             "fill": {
              "color": "#C8D4E3"
             },
             "line": {
              "color": "white"
             }
            },
            "type": "table"
           }
          ]
         },
         "layout": {
          "annotationdefaults": {
           "arrowcolor": "#2a3f5f",
           "arrowhead": 0,
           "arrowwidth": 1
          },
          "autotypenumbers": "strict",
          "coloraxis": {
           "colorbar": {
            "outlinewidth": 0,
            "ticks": ""
           }
          },
          "colorscale": {
           "diverging": [
            [
             0,
             "#8e0152"
            ],
            [
             0.1,
             "#c51b7d"
            ],
            [
             0.2,
             "#de77ae"
            ],
            [
             0.3,
             "#f1b6da"
            ],
            [
             0.4,
             "#fde0ef"
            ],
            [
             0.5,
             "#f7f7f7"
            ],
            [
             0.6,
             "#e6f5d0"
            ],
            [
             0.7,
             "#b8e186"
            ],
            [
             0.8,
             "#7fbc41"
            ],
            [
             0.9,
             "#4d9221"
            ],
            [
             1,
             "#276419"
            ]
           ],
           "sequential": [
            [
             0,
             "#0d0887"
            ],
            [
             0.1111111111111111,
             "#46039f"
            ],
            [
             0.2222222222222222,
             "#7201a8"
            ],
            [
             0.3333333333333333,
             "#9c179e"
            ],
            [
             0.4444444444444444,
             "#bd3786"
            ],
            [
             0.5555555555555556,
             "#d8576b"
            ],
            [
             0.6666666666666666,
             "#ed7953"
            ],
            [
             0.7777777777777778,
             "#fb9f3a"
            ],
            [
             0.8888888888888888,
             "#fdca26"
            ],
            [
             1,
             "#f0f921"
            ]
           ],
           "sequentialminus": [
            [
             0,
             "#0d0887"
            ],
            [
             0.1111111111111111,
             "#46039f"
            ],
            [
             0.2222222222222222,
             "#7201a8"
            ],
            [
             0.3333333333333333,
             "#9c179e"
            ],
            [
             0.4444444444444444,
             "#bd3786"
            ],
            [
             0.5555555555555556,
             "#d8576b"
            ],
            [
             0.6666666666666666,
             "#ed7953"
            ],
            [
             0.7777777777777778,
             "#fb9f3a"
            ],
            [
             0.8888888888888888,
             "#fdca26"
            ],
            [
             1,
             "#f0f921"
            ]
           ]
          },
          "colorway": [
           "#636efa",
           "#EF553B",
           "#00cc96",
           "#ab63fa",
           "#FFA15A",
           "#19d3f3",
           "#FF6692",
           "#B6E880",
           "#FF97FF",
           "#FECB52"
          ],
          "font": {
           "color": "#2a3f5f"
          },
          "geo": {
           "bgcolor": "white",
           "lakecolor": "white",
           "landcolor": "#E5ECF6",
           "showlakes": true,
           "showland": true,
           "subunitcolor": "white"
          },
          "hoverlabel": {
           "align": "left"
          },
          "hovermode": "closest",
          "mapbox": {
           "style": "light"
          },
          "paper_bgcolor": "white",
          "plot_bgcolor": "#E5ECF6",
          "polar": {
           "angularaxis": {
            "gridcolor": "white",
            "linecolor": "white",
            "ticks": ""
           },
           "bgcolor": "#E5ECF6",
           "radialaxis": {
            "gridcolor": "white",
            "linecolor": "white",
            "ticks": ""
           }
          },
          "scene": {
           "xaxis": {
            "backgroundcolor": "#E5ECF6",
            "gridcolor": "white",
            "gridwidth": 2,
            "linecolor": "white",
            "showbackground": true,
            "ticks": "",
            "zerolinecolor": "white"
           },
           "yaxis": {
            "backgroundcolor": "#E5ECF6",
            "gridcolor": "white",
            "gridwidth": 2,
            "linecolor": "white",
            "showbackground": true,
            "ticks": "",
            "zerolinecolor": "white"
           },
           "zaxis": {
            "backgroundcolor": "#E5ECF6",
            "gridcolor": "white",
            "gridwidth": 2,
            "linecolor": "white",
            "showbackground": true,
            "ticks": "",
            "zerolinecolor": "white"
           }
          },
          "shapedefaults": {
           "line": {
            "color": "#2a3f5f"
           }
          },
          "ternary": {
           "aaxis": {
            "gridcolor": "white",
            "linecolor": "white",
            "ticks": ""
           },
           "baxis": {
            "gridcolor": "white",
            "linecolor": "white",
            "ticks": ""
           },
           "bgcolor": "#E5ECF6",
           "caxis": {
            "gridcolor": "white",
            "linecolor": "white",
            "ticks": ""
           }
          },
          "title": {
           "x": 0.05
          },
          "xaxis": {
           "automargin": true,
           "gridcolor": "white",
           "linecolor": "white",
           "ticks": "",
           "title": {
            "standoff": 15
           },
           "zerolinecolor": "white",
           "zerolinewidth": 2
          },
          "yaxis": {
           "automargin": true,
           "gridcolor": "white",
           "linecolor": "white",
           "ticks": "",
           "title": {
            "standoff": 15
           },
           "zerolinecolor": "white",
           "zerolinewidth": 2
          }
         }
        },
        "width": 800
       }
      },
      "text/html": [
       "<div>                            <div id=\"626ecc09-e0e4-46e1-9d1b-6c7d7be4bd5e\" class=\"plotly-graph-div\" style=\"height:600px; width:800px;\"></div>            <script type=\"text/javascript\">                require([\"plotly\"], function(Plotly) {                    window.PLOTLYENV=window.PLOTLYENV || {};                                    if (document.getElementById(\"626ecc09-e0e4-46e1-9d1b-6c7d7be4bd5e\")) {                    Plotly.newPlot(                        \"626ecc09-e0e4-46e1-9d1b-6c7d7be4bd5e\",                        [{\"customdata\":[[26.0,\"Aizawl\"],[70.0,\"Thiruvananthapuram\"],[79.0,\"Coimbatore\"],[79.0,\"Coimbatore\"],[85.0,\"Bengaluru\"],[85.0,\"Chandigarh\"],[101.0,\"Chennai\"],[101.0,\"Kochi\"],[101.0,\"Kochi\"],[101.0,\"Guwahati\"],[105.0,\"Kolkata\"],[105.0,\"Hyderabad\"],[109.0,\"Amritsar\"],[116.0,\"Visakhapatnam\"],[116.0,\"Visakhapatnam\"],[116.0,\"Jorapokhar\"],[116.0,\"Mumbai\"],[118.0,\"Bhopal\"],[119.0,\"Jaipur\"],[142.0,\"Patna\"],[187.0,\"Lucknow\"],[188.0,\"Ahmedabad\"],[256.0,\"Delhi\"]],\"hovertemplate\":\"<b>%{hovertext}</b><br><br>AQI=%{marker.color}<br>Latitude=%{lat}<br>Longitude=%{lon}<br>City=%{customdata[1]}<extra></extra>\",\"hovertext\":[26.0,70.0,79.0,79.0,85.0,85.0,101.0,101.0,101.0,101.0,105.0,105.0,109.0,116.0,116.0,116.0,116.0,118.0,119.0,142.0,187.0,188.0,256.0],\"lat\":[23.727106,8.524139,11.017363,11.004556,12.971599,30.741482,13.067439,9.939093,9.931233,26.148043,22.572645,17.38714,31.63398,17.686815,17.690474,22.422455,19.07609,23.259933,26.92207,25.612677,26.85,23.033863,28.679079],\"legendgroup\":\"\",\"lon\":[92.717636,76.936638,76.958885,76.961632,77.594566,76.768066,80.237617,76.270523,76.267303,91.731377,88.363892,78.491684,74.872261,83.218483,83.231049,85.760651,72.877426,77.412613,75.778885,85.158875,80.949997,72.585022,77.06971],\"marker\":{\"color\":[26.0,70.0,79.0,79.0,85.0,85.0,101.0,101.0,101.0,101.0,105.0,105.0,109.0,116.0,116.0,116.0,116.0,118.0,119.0,142.0,187.0,188.0,256.0],\"coloraxis\":\"coloraxis\",\"size\":[26.0,70.0,79.0,79.0,85.0,85.0,101.0,101.0,101.0,101.0,105.0,105.0,109.0,116.0,116.0,116.0,116.0,118.0,119.0,142.0,187.0,188.0,256.0],\"sizemode\":\"area\",\"sizeref\":0.64},\"mode\":\"markers\",\"name\":\"\",\"showlegend\":false,\"subplot\":\"mapbox\",\"type\":\"scattermapbox\"}],                        {\"template\":{\"data\":{\"bar\":[{\"error_x\":{\"color\":\"#2a3f5f\"},\"error_y\":{\"color\":\"#2a3f5f\"},\"marker\":{\"line\":{\"color\":\"#E5ECF6\",\"width\":0.5},\"pattern\":{\"fillmode\":\"overlay\",\"size\":10,\"solidity\":0.2}},\"type\":\"bar\"}],\"barpolar\":[{\"marker\":{\"line\":{\"color\":\"#E5ECF6\",\"width\":0.5},\"pattern\":{\"fillmode\":\"overlay\",\"size\":10,\"solidity\":0.2}},\"type\":\"barpolar\"}],\"carpet\":[{\"aaxis\":{\"endlinecolor\":\"#2a3f5f\",\"gridcolor\":\"white\",\"linecolor\":\"white\",\"minorgridcolor\":\"white\",\"startlinecolor\":\"#2a3f5f\"},\"baxis\":{\"endlinecolor\":\"#2a3f5f\",\"gridcolor\":\"white\",\"linecolor\":\"white\",\"minorgridcolor\":\"white\",\"startlinecolor\":\"#2a3f5f\"},\"type\":\"carpet\"}],\"choropleth\":[{\"colorbar\":{\"outlinewidth\":0,\"ticks\":\"\"},\"type\":\"choropleth\"}],\"contour\":[{\"colorbar\":{\"outlinewidth\":0,\"ticks\":\"\"},\"colorscale\":[[0.0,\"#0d0887\"],[0.1111111111111111,\"#46039f\"],[0.2222222222222222,\"#7201a8\"],[0.3333333333333333,\"#9c179e\"],[0.4444444444444444,\"#bd3786\"],[0.5555555555555556,\"#d8576b\"],[0.6666666666666666,\"#ed7953\"],[0.7777777777777778,\"#fb9f3a\"],[0.8888888888888888,\"#fdca26\"],[1.0,\"#f0f921\"]],\"type\":\"contour\"}],\"contourcarpet\":[{\"colorbar\":{\"outlinewidth\":0,\"ticks\":\"\"},\"type\":\"contourcarpet\"}],\"heatmap\":[{\"colorbar\":{\"outlinewidth\":0,\"ticks\":\"\"},\"colorscale\":[[0.0,\"#0d0887\"],[0.1111111111111111,\"#46039f\"],[0.2222222222222222,\"#7201a8\"],[0.3333333333333333,\"#9c179e\"],[0.4444444444444444,\"#bd3786\"],[0.5555555555555556,\"#d8576b\"],[0.6666666666666666,\"#ed7953\"],[0.7777777777777778,\"#fb9f3a\"],[0.8888888888888888,\"#fdca26\"],[1.0,\"#f0f921\"]],\"type\":\"heatmap\"}],\"heatmapgl\":[{\"colorbar\":{\"outlinewidth\":0,\"ticks\":\"\"},\"colorscale\":[[0.0,\"#0d0887\"],[0.1111111111111111,\"#46039f\"],[0.2222222222222222,\"#7201a8\"],[0.3333333333333333,\"#9c179e\"],[0.4444444444444444,\"#bd3786\"],[0.5555555555555556,\"#d8576b\"],[0.6666666666666666,\"#ed7953\"],[0.7777777777777778,\"#fb9f3a\"],[0.8888888888888888,\"#fdca26\"],[1.0,\"#f0f921\"]],\"type\":\"heatmapgl\"}],\"histogram\":[{\"marker\":{\"pattern\":{\"fillmode\":\"overlay\",\"size\":10,\"solidity\":0.2}},\"type\":\"histogram\"}],\"histogram2d\":[{\"colorbar\":{\"outlinewidth\":0,\"ticks\":\"\"},\"colorscale\":[[0.0,\"#0d0887\"],[0.1111111111111111,\"#46039f\"],[0.2222222222222222,\"#7201a8\"],[0.3333333333333333,\"#9c179e\"],[0.4444444444444444,\"#bd3786\"],[0.5555555555555556,\"#d8576b\"],[0.6666666666666666,\"#ed7953\"],[0.7777777777777778,\"#fb9f3a\"],[0.8888888888888888,\"#fdca26\"],[1.0,\"#f0f921\"]],\"type\":\"histogram2d\"}],\"histogram2dcontour\":[{\"colorbar\":{\"outlinewidth\":0,\"ticks\":\"\"},\"colorscale\":[[0.0,\"#0d0887\"],[0.1111111111111111,\"#46039f\"],[0.2222222222222222,\"#7201a8\"],[0.3333333333333333,\"#9c179e\"],[0.4444444444444444,\"#bd3786\"],[0.5555555555555556,\"#d8576b\"],[0.6666666666666666,\"#ed7953\"],[0.7777777777777778,\"#fb9f3a\"],[0.8888888888888888,\"#fdca26\"],[1.0,\"#f0f921\"]],\"type\":\"histogram2dcontour\"}],\"mesh3d\":[{\"colorbar\":{\"outlinewidth\":0,\"ticks\":\"\"},\"type\":\"mesh3d\"}],\"parcoords\":[{\"line\":{\"colorbar\":{\"outlinewidth\":0,\"ticks\":\"\"}},\"type\":\"parcoords\"}],\"pie\":[{\"automargin\":true,\"type\":\"pie\"}],\"scatter\":[{\"marker\":{\"colorbar\":{\"outlinewidth\":0,\"ticks\":\"\"}},\"type\":\"scatter\"}],\"scatter3d\":[{\"line\":{\"colorbar\":{\"outlinewidth\":0,\"ticks\":\"\"}},\"marker\":{\"colorbar\":{\"outlinewidth\":0,\"ticks\":\"\"}},\"type\":\"scatter3d\"}],\"scattercarpet\":[{\"marker\":{\"colorbar\":{\"outlinewidth\":0,\"ticks\":\"\"}},\"type\":\"scattercarpet\"}],\"scattergeo\":[{\"marker\":{\"colorbar\":{\"outlinewidth\":0,\"ticks\":\"\"}},\"type\":\"scattergeo\"}],\"scattergl\":[{\"marker\":{\"colorbar\":{\"outlinewidth\":0,\"ticks\":\"\"}},\"type\":\"scattergl\"}],\"scattermapbox\":[{\"marker\":{\"colorbar\":{\"outlinewidth\":0,\"ticks\":\"\"}},\"type\":\"scattermapbox\"}],\"scatterpolar\":[{\"marker\":{\"colorbar\":{\"outlinewidth\":0,\"ticks\":\"\"}},\"type\":\"scatterpolar\"}],\"scatterpolargl\":[{\"marker\":{\"colorbar\":{\"outlinewidth\":0,\"ticks\":\"\"}},\"type\":\"scatterpolargl\"}],\"scatterternary\":[{\"marker\":{\"colorbar\":{\"outlinewidth\":0,\"ticks\":\"\"}},\"type\":\"scatterternary\"}],\"surface\":[{\"colorbar\":{\"outlinewidth\":0,\"ticks\":\"\"},\"colorscale\":[[0.0,\"#0d0887\"],[0.1111111111111111,\"#46039f\"],[0.2222222222222222,\"#7201a8\"],[0.3333333333333333,\"#9c179e\"],[0.4444444444444444,\"#bd3786\"],[0.5555555555555556,\"#d8576b\"],[0.6666666666666666,\"#ed7953\"],[0.7777777777777778,\"#fb9f3a\"],[0.8888888888888888,\"#fdca26\"],[1.0,\"#f0f921\"]],\"type\":\"surface\"}],\"table\":[{\"cells\":{\"fill\":{\"color\":\"#EBF0F8\"},\"line\":{\"color\":\"white\"}},\"header\":{\"fill\":{\"color\":\"#C8D4E3\"},\"line\":{\"color\":\"white\"}},\"type\":\"table\"}]},\"layout\":{\"annotationdefaults\":{\"arrowcolor\":\"#2a3f5f\",\"arrowhead\":0,\"arrowwidth\":1},\"autotypenumbers\":\"strict\",\"coloraxis\":{\"colorbar\":{\"outlinewidth\":0,\"ticks\":\"\"}},\"colorscale\":{\"diverging\":[[0,\"#8e0152\"],[0.1,\"#c51b7d\"],[0.2,\"#de77ae\"],[0.3,\"#f1b6da\"],[0.4,\"#fde0ef\"],[0.5,\"#f7f7f7\"],[0.6,\"#e6f5d0\"],[0.7,\"#b8e186\"],[0.8,\"#7fbc41\"],[0.9,\"#4d9221\"],[1,\"#276419\"]],\"sequential\":[[0.0,\"#0d0887\"],[0.1111111111111111,\"#46039f\"],[0.2222222222222222,\"#7201a8\"],[0.3333333333333333,\"#9c179e\"],[0.4444444444444444,\"#bd3786\"],[0.5555555555555556,\"#d8576b\"],[0.6666666666666666,\"#ed7953\"],[0.7777777777777778,\"#fb9f3a\"],[0.8888888888888888,\"#fdca26\"],[1.0,\"#f0f921\"]],\"sequentialminus\":[[0.0,\"#0d0887\"],[0.1111111111111111,\"#46039f\"],[0.2222222222222222,\"#7201a8\"],[0.3333333333333333,\"#9c179e\"],[0.4444444444444444,\"#bd3786\"],[0.5555555555555556,\"#d8576b\"],[0.6666666666666666,\"#ed7953\"],[0.7777777777777778,\"#fb9f3a\"],[0.8888888888888888,\"#fdca26\"],[1.0,\"#f0f921\"]]},\"colorway\":[\"#636efa\",\"#EF553B\",\"#00cc96\",\"#ab63fa\",\"#FFA15A\",\"#19d3f3\",\"#FF6692\",\"#B6E880\",\"#FF97FF\",\"#FECB52\"],\"font\":{\"color\":\"#2a3f5f\"},\"geo\":{\"bgcolor\":\"white\",\"lakecolor\":\"white\",\"landcolor\":\"#E5ECF6\",\"showlakes\":true,\"showland\":true,\"subunitcolor\":\"white\"},\"hoverlabel\":{\"align\":\"left\"},\"hovermode\":\"closest\",\"mapbox\":{\"style\":\"light\"},\"paper_bgcolor\":\"white\",\"plot_bgcolor\":\"#E5ECF6\",\"polar\":{\"angularaxis\":{\"gridcolor\":\"white\",\"linecolor\":\"white\",\"ticks\":\"\"},\"bgcolor\":\"#E5ECF6\",\"radialaxis\":{\"gridcolor\":\"white\",\"linecolor\":\"white\",\"ticks\":\"\"}},\"scene\":{\"xaxis\":{\"backgroundcolor\":\"#E5ECF6\",\"gridcolor\":\"white\",\"gridwidth\":2,\"linecolor\":\"white\",\"showbackground\":true,\"ticks\":\"\",\"zerolinecolor\":\"white\"},\"yaxis\":{\"backgroundcolor\":\"#E5ECF6\",\"gridcolor\":\"white\",\"gridwidth\":2,\"linecolor\":\"white\",\"showbackground\":true,\"ticks\":\"\",\"zerolinecolor\":\"white\"},\"zaxis\":{\"backgroundcolor\":\"#E5ECF6\",\"gridcolor\":\"white\",\"gridwidth\":2,\"linecolor\":\"white\",\"showbackground\":true,\"ticks\":\"\",\"zerolinecolor\":\"white\"}},\"shapedefaults\":{\"line\":{\"color\":\"#2a3f5f\"}},\"ternary\":{\"aaxis\":{\"gridcolor\":\"white\",\"linecolor\":\"white\",\"ticks\":\"\"},\"baxis\":{\"gridcolor\":\"white\",\"linecolor\":\"white\",\"ticks\":\"\"},\"bgcolor\":\"#E5ECF6\",\"caxis\":{\"gridcolor\":\"white\",\"linecolor\":\"white\",\"ticks\":\"\"}},\"title\":{\"x\":0.05},\"xaxis\":{\"automargin\":true,\"gridcolor\":\"white\",\"linecolor\":\"white\",\"ticks\":\"\",\"title\":{\"standoff\":15},\"zerolinecolor\":\"white\",\"zerolinewidth\":2},\"yaxis\":{\"automargin\":true,\"gridcolor\":\"white\",\"linecolor\":\"white\",\"ticks\":\"\",\"title\":{\"standoff\":15},\"zerolinecolor\":\"white\",\"zerolinewidth\":2}}},\"mapbox\":{\"domain\":{\"x\":[0.0,1.0],\"y\":[0.0,1.0]},\"center\":{\"lat\":19.995620608695656,\"lon\":79.9223822173913},\"zoom\":3.8,\"style\":\"open-street-map\"},\"coloraxis\":{\"colorbar\":{\"title\":{\"text\":\"AQI\"}},\"colorscale\":[[0.0,\"rgb(0,0,131)\"],[0.2,\"rgb(0,60,170)\"],[0.4,\"rgb(5,255,255)\"],[0.6,\"rgb(255,255,0)\"],[0.8,\"rgb(250,0,0)\"],[1.0,\"rgb(128,0,0)\"]]},\"legend\":{\"tracegroupgap\":0,\"itemsizing\":\"constant\"},\"margin\":{\"t\":0,\"r\":0,\"l\":0,\"b\":0},\"height\":600,\"width\":800},                        {\"responsive\": true}                    ).then(function(){\n",
       "                            \n",
       "var gd = document.getElementById('626ecc09-e0e4-46e1-9d1b-6c7d7be4bd5e');\n",
       "var x = new MutationObserver(function (mutations, observer) {{\n",
       "        var display = window.getComputedStyle(gd).display;\n",
       "        if (!display || display === 'none') {{\n",
       "            console.log([gd, 'removed!']);\n",
       "            Plotly.purge(gd);\n",
       "            observer.disconnect();\n",
       "        }}\n",
       "}});\n",
       "\n",
       "// Listen for the removal of the full notebook cells\n",
       "var notebookContainer = gd.closest('#notebook-container');\n",
       "if (notebookContainer) {{\n",
       "    x.observe(notebookContainer, {childList: true});\n",
       "}}\n",
       "\n",
       "// Listen for the clearing of the current output cell\n",
       "var outputEl = gd.closest('.output');\n",
       "if (outputEl) {{\n",
       "    x.observe(outputEl, {childList: true});\n",
       "}}\n",
       "\n",
       "                        })                };                });            </script>        </div>"
      ]
     },
     "metadata": {},
     "output_type": "display_data"
    }
   ],
   "source": [
    "fig = px.scatter_mapbox(air3, \n",
    "                        lat=\"Latitude\", \n",
    "                        lon=\"Longitude\", \n",
    "                        hover_name=\"AQI\", \n",
    "                        hover_data=[\"AQI\",\"City\"],\n",
    "                        color=\"AQI\",\n",
    "                        color_continuous_scale=\"jet\",\n",
    "                        size=\"AQI\",\n",
    "                        zoom=3.8, \n",
    "                        height=600,\n",
    "                        width=800)\n",
    "\n",
    "fig.update_layout(mapbox_style=\"open-street-map\")\n",
    "fig.update_layout(margin={\"r\":0,\"t\":0,\"l\":0,\"b\":0})\n",
    "fig.show()"
   ]
  },
  {
   "cell_type": "markdown",
   "id": "a39aa020",
   "metadata": {},
   "source": [
    "# Data Insights we get from this Project"
   ]
  },
  {
   "cell_type": "markdown",
   "id": "93895bfc",
   "metadata": {},
   "source": [
    "- The air pollution project has identified the level of air pollution in various cities across India.\n",
    "- Aizawl has the lowest air pollution level with 26.0 followed by Thiruvananthapuram with 70.0.\n",
    "- Delhi has the highest level of air pollution with 256.0 followed by Ahmedabad with 188.0.\n",
    "- Cities like Shillong, Coimbatore, Bengaluru, and Chandigarh have moderate levels of air pollution ranging between 73.0 to 85.0.\n",
    "- The project has identified the air pollution level in 25 cities of India.\n",
    "- The project provides valuable information to people living in these cities to take necessary precautions and measures to improve the air quality."
   ]
  },
  {
   "cell_type": "markdown",
   "id": "235ce6fc",
   "metadata": {},
   "source": [
    "### Thank you for scrolling"
   ]
  }
 ],
 "metadata": {
  "kernelspec": {
   "display_name": "Python 3 (ipykernel)",
   "language": "python",
   "name": "python3"
  },
  "language_info": {
   "codemirror_mode": {
    "name": "ipython",
    "version": 3
   },
   "file_extension": ".py",
   "mimetype": "text/x-python",
   "name": "python",
   "nbconvert_exporter": "python",
   "pygments_lexer": "ipython3",
   "version": "3.9.12"
  }
 },
 "nbformat": 4,
 "nbformat_minor": 5
}
